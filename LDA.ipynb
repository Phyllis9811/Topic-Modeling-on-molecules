{
  "nbformat": 4,
  "nbformat_minor": 0,
  "metadata": {
    "colab": {
      "name": "LDA.ipynb",
      "provenance": [],
      "collapsed_sections": []
    },
    "kernelspec": {
      "name": "python3",
      "display_name": "Python 3"
    },
    "accelerator": "GPU"
  },
  "cells": [
    {
      "cell_type": "code",
      "metadata": {
        "id": "mEJTAzxsZORw",
        "colab_type": "code",
        "colab": {}
      },
      "source": [
        "import pandas as pd\n",
        "import numpy as np\n",
        "from sklearn.decomposition import LatentDirichletAllocation"
      ],
      "execution_count": 0,
      "outputs": []
    },
    {
      "cell_type": "code",
      "metadata": {
        "id": "A3w9opIBI2GQ",
        "colab_type": "code",
        "colab": {}
      },
      "source": [
        "%matplotlib inline\n",
        "import matplotlib.pyplot as plt"
      ],
      "execution_count": 0,
      "outputs": []
    },
    {
      "cell_type": "code",
      "metadata": {
        "id": "CYTHSzGmdVbh",
        "colab_type": "code",
        "colab": {}
      },
      "source": [
        "meltPt_prop2 = pd.read_csv('/content/drive/My Drive/Data_LDA/cleaned_MeltingPt_vecs.csv')"
      ],
      "execution_count": 0,
      "outputs": []
    },
    {
      "cell_type": "code",
      "metadata": {
        "id": "kur2WsZZfEs7",
        "colab_type": "code",
        "colab": {}
      },
      "source": [
        "meltPt_prop2.set_index('smiles', inplace=True)"
      ],
      "execution_count": 0,
      "outputs": []
    },
    {
      "cell_type": "code",
      "metadata": {
        "id": "aqa8lR76fxrj",
        "colab_type": "code",
        "colab": {}
      },
      "source": [
        "meltPt_prop2.drop(columns=[\"Unnamed: 0\", \"Unnamed: 0.1\"], inplace=True)"
      ],
      "execution_count": 0,
      "outputs": []
    },
    {
      "cell_type": "code",
      "metadata": {
        "id": "J_4ULLold6FJ",
        "colab_type": "code",
        "outputId": "6bcaded8-91cd-419c-8329-f01254b24106",
        "colab": {
          "base_uri": "https://localhost:8080/",
          "height": 318
        }
      },
      "source": [
        "meltPt_prop2.head()"
      ],
      "execution_count": 0,
      "outputs": [
        {
          "output_type": "execute_result",
          "data": {
            "text/html": [
              "<div>\n",
              "<style scoped>\n",
              "    .dataframe tbody tr th:only-of-type {\n",
              "        vertical-align: middle;\n",
              "    }\n",
              "\n",
              "    .dataframe tbody tr th {\n",
              "        vertical-align: top;\n",
              "    }\n",
              "\n",
              "    .dataframe thead th {\n",
              "        text-align: right;\n",
              "    }\n",
              "</style>\n",
              "<table border=\"1\" class=\"dataframe\">\n",
              "  <thead>\n",
              "    <tr style=\"text-align: right;\">\n",
              "      <th></th>\n",
              "      <th>vec_0</th>\n",
              "      <th>vec_1</th>\n",
              "      <th>vec_2</th>\n",
              "      <th>vec_3</th>\n",
              "      <th>vec_4</th>\n",
              "      <th>vec_5</th>\n",
              "      <th>vec_6</th>\n",
              "      <th>vec_7</th>\n",
              "      <th>vec_8</th>\n",
              "      <th>vec_9</th>\n",
              "      <th>vec_10</th>\n",
              "      <th>vec_11</th>\n",
              "      <th>vec_12</th>\n",
              "      <th>vec_13</th>\n",
              "      <th>vec_14</th>\n",
              "      <th>vec_15</th>\n",
              "      <th>vec_16</th>\n",
              "      <th>vec_17</th>\n",
              "      <th>vec_18</th>\n",
              "      <th>vec_19</th>\n",
              "      <th>vec_20</th>\n",
              "      <th>vec_21</th>\n",
              "      <th>vec_22</th>\n",
              "      <th>vec_23</th>\n",
              "      <th>vec_24</th>\n",
              "      <th>vec_25</th>\n",
              "      <th>vec_26</th>\n",
              "      <th>vec_27</th>\n",
              "      <th>vec_28</th>\n",
              "      <th>vec_29</th>\n",
              "      <th>vec_30</th>\n",
              "      <th>vec_31</th>\n",
              "      <th>vec_32</th>\n",
              "      <th>vec_33</th>\n",
              "      <th>vec_34</th>\n",
              "      <th>vec_35</th>\n",
              "      <th>vec_36</th>\n",
              "      <th>vec_37</th>\n",
              "      <th>vec_38</th>\n",
              "      <th>vec_39</th>\n",
              "      <th>...</th>\n",
              "      <th>vec_260</th>\n",
              "      <th>vec_261</th>\n",
              "      <th>vec_262</th>\n",
              "      <th>vec_263</th>\n",
              "      <th>vec_264</th>\n",
              "      <th>vec_265</th>\n",
              "      <th>vec_266</th>\n",
              "      <th>vec_267</th>\n",
              "      <th>vec_268</th>\n",
              "      <th>vec_269</th>\n",
              "      <th>vec_270</th>\n",
              "      <th>vec_271</th>\n",
              "      <th>vec_272</th>\n",
              "      <th>vec_273</th>\n",
              "      <th>vec_274</th>\n",
              "      <th>vec_275</th>\n",
              "      <th>vec_276</th>\n",
              "      <th>vec_277</th>\n",
              "      <th>vec_278</th>\n",
              "      <th>vec_279</th>\n",
              "      <th>vec_280</th>\n",
              "      <th>vec_281</th>\n",
              "      <th>vec_282</th>\n",
              "      <th>vec_283</th>\n",
              "      <th>vec_284</th>\n",
              "      <th>vec_285</th>\n",
              "      <th>vec_286</th>\n",
              "      <th>vec_287</th>\n",
              "      <th>vec_288</th>\n",
              "      <th>vec_289</th>\n",
              "      <th>vec_290</th>\n",
              "      <th>vec_291</th>\n",
              "      <th>vec_292</th>\n",
              "      <th>vec_293</th>\n",
              "      <th>vec_294</th>\n",
              "      <th>vec_295</th>\n",
              "      <th>vec_296</th>\n",
              "      <th>vec_297</th>\n",
              "      <th>vec_298</th>\n",
              "      <th>vec_299</th>\n",
              "    </tr>\n",
              "    <tr>\n",
              "      <th>smiles</th>\n",
              "      <th></th>\n",
              "      <th></th>\n",
              "      <th></th>\n",
              "      <th></th>\n",
              "      <th></th>\n",
              "      <th></th>\n",
              "      <th></th>\n",
              "      <th></th>\n",
              "      <th></th>\n",
              "      <th></th>\n",
              "      <th></th>\n",
              "      <th></th>\n",
              "      <th></th>\n",
              "      <th></th>\n",
              "      <th></th>\n",
              "      <th></th>\n",
              "      <th></th>\n",
              "      <th></th>\n",
              "      <th></th>\n",
              "      <th></th>\n",
              "      <th></th>\n",
              "      <th></th>\n",
              "      <th></th>\n",
              "      <th></th>\n",
              "      <th></th>\n",
              "      <th></th>\n",
              "      <th></th>\n",
              "      <th></th>\n",
              "      <th></th>\n",
              "      <th></th>\n",
              "      <th></th>\n",
              "      <th></th>\n",
              "      <th></th>\n",
              "      <th></th>\n",
              "      <th></th>\n",
              "      <th></th>\n",
              "      <th></th>\n",
              "      <th></th>\n",
              "      <th></th>\n",
              "      <th></th>\n",
              "      <th></th>\n",
              "      <th></th>\n",
              "      <th></th>\n",
              "      <th></th>\n",
              "      <th></th>\n",
              "      <th></th>\n",
              "      <th></th>\n",
              "      <th></th>\n",
              "      <th></th>\n",
              "      <th></th>\n",
              "      <th></th>\n",
              "      <th></th>\n",
              "      <th></th>\n",
              "      <th></th>\n",
              "      <th></th>\n",
              "      <th></th>\n",
              "      <th></th>\n",
              "      <th></th>\n",
              "      <th></th>\n",
              "      <th></th>\n",
              "      <th></th>\n",
              "      <th></th>\n",
              "      <th></th>\n",
              "      <th></th>\n",
              "      <th></th>\n",
              "      <th></th>\n",
              "      <th></th>\n",
              "      <th></th>\n",
              "      <th></th>\n",
              "      <th></th>\n",
              "      <th></th>\n",
              "      <th></th>\n",
              "      <th></th>\n",
              "      <th></th>\n",
              "      <th></th>\n",
              "      <th></th>\n",
              "      <th></th>\n",
              "      <th></th>\n",
              "      <th></th>\n",
              "      <th></th>\n",
              "      <th></th>\n",
              "    </tr>\n",
              "  </thead>\n",
              "  <tbody>\n",
              "    <tr>\n",
              "      <th>B(C)(C)Br</th>\n",
              "      <td>-0.643549</td>\n",
              "      <td>1.403576</td>\n",
              "      <td>-0.136568</td>\n",
              "      <td>0.016938</td>\n",
              "      <td>0.548279</td>\n",
              "      <td>0.525434</td>\n",
              "      <td>-2.511350</td>\n",
              "      <td>0.566678</td>\n",
              "      <td>0.772374</td>\n",
              "      <td>0.610506</td>\n",
              "      <td>-0.434901</td>\n",
              "      <td>-1.102085</td>\n",
              "      <td>0.305184</td>\n",
              "      <td>-0.157024</td>\n",
              "      <td>-0.515253</td>\n",
              "      <td>-0.805841</td>\n",
              "      <td>1.205780</td>\n",
              "      <td>-0.281174</td>\n",
              "      <td>0.402330</td>\n",
              "      <td>1.554647</td>\n",
              "      <td>0.681653</td>\n",
              "      <td>0.588921</td>\n",
              "      <td>1.714938</td>\n",
              "      <td>1.061544</td>\n",
              "      <td>-0.884617</td>\n",
              "      <td>-1.511936</td>\n",
              "      <td>-0.495137</td>\n",
              "      <td>-0.190816</td>\n",
              "      <td>0.320016</td>\n",
              "      <td>-0.174376</td>\n",
              "      <td>1.230625</td>\n",
              "      <td>-0.641985</td>\n",
              "      <td>-0.416930</td>\n",
              "      <td>-0.947630</td>\n",
              "      <td>-0.003417</td>\n",
              "      <td>0.739325</td>\n",
              "      <td>0.380350</td>\n",
              "      <td>-0.663858</td>\n",
              "      <td>1.507820</td>\n",
              "      <td>0.165970</td>\n",
              "      <td>...</td>\n",
              "      <td>-1.114290</td>\n",
              "      <td>0.316985</td>\n",
              "      <td>0.572651</td>\n",
              "      <td>1.851282</td>\n",
              "      <td>0.550302</td>\n",
              "      <td>-1.040443</td>\n",
              "      <td>-0.365290</td>\n",
              "      <td>0.594854</td>\n",
              "      <td>0.401293</td>\n",
              "      <td>-0.948985</td>\n",
              "      <td>-0.615840</td>\n",
              "      <td>1.554033</td>\n",
              "      <td>-1.281979</td>\n",
              "      <td>0.372087</td>\n",
              "      <td>-0.336097</td>\n",
              "      <td>-1.996323</td>\n",
              "      <td>-0.358260</td>\n",
              "      <td>0.314572</td>\n",
              "      <td>0.654824</td>\n",
              "      <td>0.702450</td>\n",
              "      <td>-1.044243</td>\n",
              "      <td>-1.377691</td>\n",
              "      <td>-0.263034</td>\n",
              "      <td>-0.868790</td>\n",
              "      <td>0.461678</td>\n",
              "      <td>1.282874</td>\n",
              "      <td>-0.624078</td>\n",
              "      <td>-0.458547</td>\n",
              "      <td>-0.483029</td>\n",
              "      <td>0.635145</td>\n",
              "      <td>-0.812718</td>\n",
              "      <td>-0.264168</td>\n",
              "      <td>-0.638758</td>\n",
              "      <td>0.585099</td>\n",
              "      <td>-0.815716</td>\n",
              "      <td>-0.306870</td>\n",
              "      <td>-0.987928</td>\n",
              "      <td>-1.133075</td>\n",
              "      <td>-1.522481</td>\n",
              "      <td>-0.013224</td>\n",
              "    </tr>\n",
              "    <tr>\n",
              "      <th>B(C)(O)O</th>\n",
              "      <td>-0.577135</td>\n",
              "      <td>2.453745</td>\n",
              "      <td>1.159278</td>\n",
              "      <td>-1.374165</td>\n",
              "      <td>1.889976</td>\n",
              "      <td>1.441860</td>\n",
              "      <td>-4.510305</td>\n",
              "      <td>1.398043</td>\n",
              "      <td>1.530120</td>\n",
              "      <td>2.144882</td>\n",
              "      <td>-1.970033</td>\n",
              "      <td>-1.096980</td>\n",
              "      <td>0.835341</td>\n",
              "      <td>-0.959592</td>\n",
              "      <td>-2.272716</td>\n",
              "      <td>-1.973937</td>\n",
              "      <td>1.464243</td>\n",
              "      <td>-0.546352</td>\n",
              "      <td>-0.477666</td>\n",
              "      <td>1.650529</td>\n",
              "      <td>1.209631</td>\n",
              "      <td>-0.415389</td>\n",
              "      <td>2.558036</td>\n",
              "      <td>-0.681152</td>\n",
              "      <td>0.487769</td>\n",
              "      <td>-0.637497</td>\n",
              "      <td>-1.280608</td>\n",
              "      <td>2.295167</td>\n",
              "      <td>0.448645</td>\n",
              "      <td>0.339139</td>\n",
              "      <td>1.347745</td>\n",
              "      <td>-0.937108</td>\n",
              "      <td>-0.340035</td>\n",
              "      <td>0.217093</td>\n",
              "      <td>0.169103</td>\n",
              "      <td>1.748776</td>\n",
              "      <td>0.614023</td>\n",
              "      <td>-0.059746</td>\n",
              "      <td>1.361495</td>\n",
              "      <td>-0.719643</td>\n",
              "      <td>...</td>\n",
              "      <td>-1.561305</td>\n",
              "      <td>-0.099734</td>\n",
              "      <td>1.123164</td>\n",
              "      <td>1.630620</td>\n",
              "      <td>-0.367356</td>\n",
              "      <td>-0.658567</td>\n",
              "      <td>-0.468536</td>\n",
              "      <td>1.357987</td>\n",
              "      <td>0.116113</td>\n",
              "      <td>-2.078733</td>\n",
              "      <td>-2.558889</td>\n",
              "      <td>1.436359</td>\n",
              "      <td>-1.962438</td>\n",
              "      <td>0.473747</td>\n",
              "      <td>-1.053839</td>\n",
              "      <td>-2.947655</td>\n",
              "      <td>-1.010017</td>\n",
              "      <td>0.602191</td>\n",
              "      <td>1.494617</td>\n",
              "      <td>1.291709</td>\n",
              "      <td>0.663479</td>\n",
              "      <td>-0.621137</td>\n",
              "      <td>-1.492216</td>\n",
              "      <td>-0.794364</td>\n",
              "      <td>-0.649684</td>\n",
              "      <td>2.710180</td>\n",
              "      <td>-0.603537</td>\n",
              "      <td>-0.942447</td>\n",
              "      <td>0.842696</td>\n",
              "      <td>1.484331</td>\n",
              "      <td>-0.647403</td>\n",
              "      <td>-1.789785</td>\n",
              "      <td>0.183944</td>\n",
              "      <td>1.218015</td>\n",
              "      <td>-0.770867</td>\n",
              "      <td>-0.743426</td>\n",
              "      <td>-0.890780</td>\n",
              "      <td>-0.632267</td>\n",
              "      <td>-1.459616</td>\n",
              "      <td>1.273663</td>\n",
              "    </tr>\n",
              "    <tr>\n",
              "      <th>B(C1CC1)(O)O</th>\n",
              "      <td>0.194751</td>\n",
              "      <td>2.065573</td>\n",
              "      <td>1.198497</td>\n",
              "      <td>-1.016377</td>\n",
              "      <td>1.347588</td>\n",
              "      <td>1.174706</td>\n",
              "      <td>-5.588579</td>\n",
              "      <td>1.749553</td>\n",
              "      <td>1.089366</td>\n",
              "      <td>2.538345</td>\n",
              "      <td>-0.838773</td>\n",
              "      <td>-1.725143</td>\n",
              "      <td>0.069359</td>\n",
              "      <td>-0.203648</td>\n",
              "      <td>-2.798777</td>\n",
              "      <td>-2.920225</td>\n",
              "      <td>0.695258</td>\n",
              "      <td>-0.970542</td>\n",
              "      <td>-1.600018</td>\n",
              "      <td>1.867847</td>\n",
              "      <td>1.049489</td>\n",
              "      <td>0.380569</td>\n",
              "      <td>3.009509</td>\n",
              "      <td>0.592392</td>\n",
              "      <td>0.372538</td>\n",
              "      <td>-1.171943</td>\n",
              "      <td>-2.429568</td>\n",
              "      <td>1.946834</td>\n",
              "      <td>-0.044474</td>\n",
              "      <td>-0.250060</td>\n",
              "      <td>1.347984</td>\n",
              "      <td>-1.941655</td>\n",
              "      <td>-1.219523</td>\n",
              "      <td>0.419320</td>\n",
              "      <td>0.741669</td>\n",
              "      <td>2.286485</td>\n",
              "      <td>0.311404</td>\n",
              "      <td>-0.179804</td>\n",
              "      <td>2.920954</td>\n",
              "      <td>-0.025604</td>\n",
              "      <td>...</td>\n",
              "      <td>-0.948323</td>\n",
              "      <td>0.155126</td>\n",
              "      <td>1.686361</td>\n",
              "      <td>2.479353</td>\n",
              "      <td>0.291021</td>\n",
              "      <td>-1.536124</td>\n",
              "      <td>-0.772614</td>\n",
              "      <td>2.512200</td>\n",
              "      <td>0.333495</td>\n",
              "      <td>-3.046927</td>\n",
              "      <td>-2.630594</td>\n",
              "      <td>0.947578</td>\n",
              "      <td>-2.697947</td>\n",
              "      <td>-0.630542</td>\n",
              "      <td>-1.112475</td>\n",
              "      <td>-3.607898</td>\n",
              "      <td>-1.236069</td>\n",
              "      <td>0.808710</td>\n",
              "      <td>1.000181</td>\n",
              "      <td>1.897593</td>\n",
              "      <td>0.811157</td>\n",
              "      <td>-1.289436</td>\n",
              "      <td>-2.387887</td>\n",
              "      <td>-1.697917</td>\n",
              "      <td>-0.335489</td>\n",
              "      <td>4.176419</td>\n",
              "      <td>-1.157866</td>\n",
              "      <td>-1.796167</td>\n",
              "      <td>0.602731</td>\n",
              "      <td>1.509443</td>\n",
              "      <td>-0.478695</td>\n",
              "      <td>0.242686</td>\n",
              "      <td>-0.054460</td>\n",
              "      <td>0.991172</td>\n",
              "      <td>-2.097246</td>\n",
              "      <td>-1.867354</td>\n",
              "      <td>-2.570229</td>\n",
              "      <td>-0.573303</td>\n",
              "      <td>-2.496968</td>\n",
              "      <td>1.794700</td>\n",
              "    </tr>\n",
              "    <tr>\n",
              "      <th>B(C=CCC(C)C)(O)O</th>\n",
              "      <td>-1.525205</td>\n",
              "      <td>1.805014</td>\n",
              "      <td>-0.518784</td>\n",
              "      <td>-2.160116</td>\n",
              "      <td>4.236376</td>\n",
              "      <td>1.714284</td>\n",
              "      <td>-7.393000</td>\n",
              "      <td>-0.107512</td>\n",
              "      <td>3.893012</td>\n",
              "      <td>0.848587</td>\n",
              "      <td>-1.069784</td>\n",
              "      <td>-0.914428</td>\n",
              "      <td>1.697722</td>\n",
              "      <td>-1.387471</td>\n",
              "      <td>-4.056946</td>\n",
              "      <td>-4.137435</td>\n",
              "      <td>3.055914</td>\n",
              "      <td>-2.984649</td>\n",
              "      <td>-1.556069</td>\n",
              "      <td>3.886853</td>\n",
              "      <td>2.235352</td>\n",
              "      <td>1.807477</td>\n",
              "      <td>6.384276</td>\n",
              "      <td>0.642534</td>\n",
              "      <td>-0.506808</td>\n",
              "      <td>0.669432</td>\n",
              "      <td>-3.896414</td>\n",
              "      <td>-0.182701</td>\n",
              "      <td>1.285935</td>\n",
              "      <td>-0.461105</td>\n",
              "      <td>2.767166</td>\n",
              "      <td>-1.871888</td>\n",
              "      <td>-2.663631</td>\n",
              "      <td>-0.873656</td>\n",
              "      <td>0.671837</td>\n",
              "      <td>1.241951</td>\n",
              "      <td>-0.456515</td>\n",
              "      <td>0.879268</td>\n",
              "      <td>3.098188</td>\n",
              "      <td>0.127496</td>\n",
              "      <td>...</td>\n",
              "      <td>-1.900598</td>\n",
              "      <td>1.552080</td>\n",
              "      <td>-0.757657</td>\n",
              "      <td>2.590250</td>\n",
              "      <td>-0.095578</td>\n",
              "      <td>-2.113073</td>\n",
              "      <td>-1.655722</td>\n",
              "      <td>1.445834</td>\n",
              "      <td>1.772226</td>\n",
              "      <td>-2.175039</td>\n",
              "      <td>-3.904420</td>\n",
              "      <td>2.811106</td>\n",
              "      <td>-4.237155</td>\n",
              "      <td>0.678272</td>\n",
              "      <td>0.140434</td>\n",
              "      <td>-5.077536</td>\n",
              "      <td>-1.855269</td>\n",
              "      <td>1.141025</td>\n",
              "      <td>1.306532</td>\n",
              "      <td>3.064927</td>\n",
              "      <td>0.001099</td>\n",
              "      <td>-1.516921</td>\n",
              "      <td>-3.465250</td>\n",
              "      <td>-1.304029</td>\n",
              "      <td>-0.164945</td>\n",
              "      <td>2.604286</td>\n",
              "      <td>-1.345424</td>\n",
              "      <td>-0.248653</td>\n",
              "      <td>0.526468</td>\n",
              "      <td>0.866332</td>\n",
              "      <td>-2.109497</td>\n",
              "      <td>-1.607454</td>\n",
              "      <td>2.314450</td>\n",
              "      <td>1.321290</td>\n",
              "      <td>-3.559767</td>\n",
              "      <td>-2.254014</td>\n",
              "      <td>-1.847931</td>\n",
              "      <td>-1.552048</td>\n",
              "      <td>-3.775062</td>\n",
              "      <td>0.459407</td>\n",
              "    </tr>\n",
              "    <tr>\n",
              "      <th>B(C=CCCC)(O)O</th>\n",
              "      <td>-1.210874</td>\n",
              "      <td>1.947975</td>\n",
              "      <td>0.323048</td>\n",
              "      <td>-1.971842</td>\n",
              "      <td>3.623491</td>\n",
              "      <td>2.481533</td>\n",
              "      <td>-7.943348</td>\n",
              "      <td>0.476074</td>\n",
              "      <td>2.350111</td>\n",
              "      <td>2.307431</td>\n",
              "      <td>-1.565070</td>\n",
              "      <td>-2.139922</td>\n",
              "      <td>0.894437</td>\n",
              "      <td>0.138390</td>\n",
              "      <td>-4.601700</td>\n",
              "      <td>-2.950188</td>\n",
              "      <td>2.161628</td>\n",
              "      <td>-2.529657</td>\n",
              "      <td>-1.432521</td>\n",
              "      <td>3.464771</td>\n",
              "      <td>2.229934</td>\n",
              "      <td>-0.087391</td>\n",
              "      <td>5.949184</td>\n",
              "      <td>1.515847</td>\n",
              "      <td>-1.014306</td>\n",
              "      <td>-0.553549</td>\n",
              "      <td>-3.321720</td>\n",
              "      <td>0.344388</td>\n",
              "      <td>1.334636</td>\n",
              "      <td>-0.260999</td>\n",
              "      <td>1.736711</td>\n",
              "      <td>-1.795641</td>\n",
              "      <td>-1.162508</td>\n",
              "      <td>-1.205780</td>\n",
              "      <td>-0.209105</td>\n",
              "      <td>1.084725</td>\n",
              "      <td>-0.121981</td>\n",
              "      <td>1.371641</td>\n",
              "      <td>3.095062</td>\n",
              "      <td>0.544610</td>\n",
              "      <td>...</td>\n",
              "      <td>-3.578672</td>\n",
              "      <td>1.773964</td>\n",
              "      <td>0.953886</td>\n",
              "      <td>3.367849</td>\n",
              "      <td>-0.112746</td>\n",
              "      <td>-2.283754</td>\n",
              "      <td>-2.183112</td>\n",
              "      <td>1.788381</td>\n",
              "      <td>2.317649</td>\n",
              "      <td>-1.488750</td>\n",
              "      <td>-4.371192</td>\n",
              "      <td>1.057279</td>\n",
              "      <td>-3.101618</td>\n",
              "      <td>0.812681</td>\n",
              "      <td>-0.381383</td>\n",
              "      <td>-4.147240</td>\n",
              "      <td>-1.239409</td>\n",
              "      <td>0.917256</td>\n",
              "      <td>0.994866</td>\n",
              "      <td>1.930897</td>\n",
              "      <td>1.267299</td>\n",
              "      <td>-0.110818</td>\n",
              "      <td>-3.687858</td>\n",
              "      <td>-0.751624</td>\n",
              "      <td>-0.391089</td>\n",
              "      <td>2.103590</td>\n",
              "      <td>-0.782262</td>\n",
              "      <td>0.631652</td>\n",
              "      <td>1.785219</td>\n",
              "      <td>0.693745</td>\n",
              "      <td>-2.707877</td>\n",
              "      <td>-1.445508</td>\n",
              "      <td>2.434726</td>\n",
              "      <td>1.534208</td>\n",
              "      <td>-2.441328</td>\n",
              "      <td>-1.966923</td>\n",
              "      <td>-2.083129</td>\n",
              "      <td>-1.144192</td>\n",
              "      <td>-2.752895</td>\n",
              "      <td>-0.634076</td>\n",
              "    </tr>\n",
              "  </tbody>\n",
              "</table>\n",
              "<p>5 rows × 300 columns</p>\n",
              "</div>"
            ],
            "text/plain": [
              "                     vec_0     vec_1     vec_2  ...   vec_297   vec_298   vec_299\n",
              "smiles                                          ...                              \n",
              "B(C)(C)Br        -0.643549  1.403576 -0.136568  ... -1.133075 -1.522481 -0.013224\n",
              "B(C)(O)O         -0.577135  2.453745  1.159278  ... -0.632267 -1.459616  1.273663\n",
              "B(C1CC1)(O)O      0.194751  2.065573  1.198497  ... -0.573303 -2.496968  1.794700\n",
              "B(C=CCC(C)C)(O)O -1.525205  1.805014 -0.518784  ... -1.552048 -3.775062  0.459407\n",
              "B(C=CCCC)(O)O    -1.210874  1.947975  0.323048  ... -1.144192 -2.752895 -0.634076\n",
              "\n",
              "[5 rows x 300 columns]"
            ]
          },
          "metadata": {
            "tags": []
          },
          "execution_count": 6
        }
      ]
    },
    {
      "cell_type": "code",
      "metadata": {
        "id": "JW2v5fhDeHZb",
        "colab_type": "code",
        "outputId": "48057a2f-699d-4548-f555-c76b920d18b6",
        "colab": {
          "base_uri": "https://localhost:8080/",
          "height": 34
        }
      },
      "source": [
        "meltPt_prop2.shape"
      ],
      "execution_count": 0,
      "outputs": [
        {
          "output_type": "execute_result",
          "data": {
            "text/plain": [
              "(20719, 300)"
            ]
          },
          "metadata": {
            "tags": []
          },
          "execution_count": 7
        }
      ]
    },
    {
      "cell_type": "code",
      "metadata": {
        "id": "JSIIZmJilTc_",
        "colab_type": "code",
        "colab": {}
      },
      "source": [
        "from sklearn.preprocessing import minmax_scale\n",
        "meltPt_prop2_scaled = minmax_scale(meltPt_prop2, feature_range=(0, 5), axis=1)"
      ],
      "execution_count": 0,
      "outputs": []
    },
    {
      "cell_type": "code",
      "metadata": {
        "id": "TfAhWg5E4ZXc",
        "colab_type": "code",
        "outputId": "256db3fb-d9d4-4c32-afa8-b731586ccc39",
        "colab": {
          "base_uri": "https://localhost:8080/",
          "height": 187
        }
      },
      "source": [
        "meltPt_prop2_scaled[:5]"
      ],
      "execution_count": 0,
      "outputs": [
        {
          "output_type": "execute_result",
          "data": {
            "text/plain": [
              "array([[2.1217732 , 3.89300641, 2.560428  , ..., 1.69822041, 1.36129483,\n",
              "        2.66714919],\n",
              "       [2.65826623, 4.55670859, 3.74589772, ..., 2.62373366, 2.10550941,\n",
              "        3.81754442],\n",
              "       [3.06879013, 3.89769716, 3.51352102, ..., 2.72848781, 1.87616758,\n",
              "        3.77768126],\n",
              "       [2.12951926, 3.33811054, 2.49476604, ..., 2.11977743, 1.31300915,\n",
              "        2.84976759],\n",
              "       [2.45745217, 3.57916445, 3.00215028, ..., 2.48113095, 1.90987791,\n",
              "        2.66227393]])"
            ]
          },
          "metadata": {
            "tags": []
          },
          "execution_count": 9
        }
      ]
    },
    {
      "cell_type": "code",
      "metadata": {
        "id": "MO_hnkEVeITx",
        "colab_type": "code",
        "colab": {}
      },
      "source": [
        "lda = LatentDirichletAllocation(n_components=60, random_state=0, max_iter=100, learning_method='online',\n",
        "                                batch_size=1000, verbose=1)"
      ],
      "execution_count": 0,
      "outputs": []
    },
    {
      "cell_type": "code",
      "metadata": {
        "id": "NeQfw739k9fM",
        "colab_type": "code",
        "outputId": "097561b8-33eb-4afc-97e0-6f396407f4d7",
        "colab": {
          "base_uri": "https://localhost:8080/",
          "height": 1000
        }
      },
      "source": [
        "lda.fit(meltPt_prop2_scaled)"
      ],
      "execution_count": 0,
      "outputs": [
        {
          "output_type": "stream",
          "text": [
            "iteration: 1 of max_iter: 100\n",
            "iteration: 2 of max_iter: 100\n",
            "iteration: 3 of max_iter: 100\n",
            "iteration: 4 of max_iter: 100\n",
            "iteration: 5 of max_iter: 100\n",
            "iteration: 6 of max_iter: 100\n",
            "iteration: 7 of max_iter: 100\n",
            "iteration: 8 of max_iter: 100\n",
            "iteration: 9 of max_iter: 100\n",
            "iteration: 10 of max_iter: 100\n",
            "iteration: 11 of max_iter: 100\n",
            "iteration: 12 of max_iter: 100\n",
            "iteration: 13 of max_iter: 100\n",
            "iteration: 14 of max_iter: 100\n",
            "iteration: 15 of max_iter: 100\n",
            "iteration: 16 of max_iter: 100\n",
            "iteration: 17 of max_iter: 100\n",
            "iteration: 18 of max_iter: 100\n",
            "iteration: 19 of max_iter: 100\n",
            "iteration: 20 of max_iter: 100\n",
            "iteration: 21 of max_iter: 100\n",
            "iteration: 22 of max_iter: 100\n",
            "iteration: 23 of max_iter: 100\n",
            "iteration: 24 of max_iter: 100\n",
            "iteration: 25 of max_iter: 100\n",
            "iteration: 26 of max_iter: 100\n",
            "iteration: 27 of max_iter: 100\n",
            "iteration: 28 of max_iter: 100\n",
            "iteration: 29 of max_iter: 100\n",
            "iteration: 30 of max_iter: 100\n",
            "iteration: 31 of max_iter: 100\n",
            "iteration: 32 of max_iter: 100\n",
            "iteration: 33 of max_iter: 100\n",
            "iteration: 34 of max_iter: 100\n",
            "iteration: 35 of max_iter: 100\n",
            "iteration: 36 of max_iter: 100\n",
            "iteration: 37 of max_iter: 100\n",
            "iteration: 38 of max_iter: 100\n",
            "iteration: 39 of max_iter: 100\n",
            "iteration: 40 of max_iter: 100\n",
            "iteration: 41 of max_iter: 100\n",
            "iteration: 42 of max_iter: 100\n",
            "iteration: 43 of max_iter: 100\n",
            "iteration: 44 of max_iter: 100\n",
            "iteration: 45 of max_iter: 100\n",
            "iteration: 46 of max_iter: 100\n",
            "iteration: 47 of max_iter: 100\n",
            "iteration: 48 of max_iter: 100\n",
            "iteration: 49 of max_iter: 100\n",
            "iteration: 50 of max_iter: 100\n",
            "iteration: 51 of max_iter: 100\n",
            "iteration: 52 of max_iter: 100\n",
            "iteration: 53 of max_iter: 100\n",
            "iteration: 54 of max_iter: 100\n",
            "iteration: 55 of max_iter: 100\n",
            "iteration: 56 of max_iter: 100\n",
            "iteration: 57 of max_iter: 100\n",
            "iteration: 58 of max_iter: 100\n",
            "iteration: 59 of max_iter: 100\n",
            "iteration: 60 of max_iter: 100\n",
            "iteration: 61 of max_iter: 100\n",
            "iteration: 62 of max_iter: 100\n",
            "iteration: 63 of max_iter: 100\n",
            "iteration: 64 of max_iter: 100\n",
            "iteration: 65 of max_iter: 100\n",
            "iteration: 66 of max_iter: 100\n",
            "iteration: 67 of max_iter: 100\n",
            "iteration: 68 of max_iter: 100\n",
            "iteration: 69 of max_iter: 100\n",
            "iteration: 70 of max_iter: 100\n",
            "iteration: 71 of max_iter: 100\n",
            "iteration: 72 of max_iter: 100\n",
            "iteration: 73 of max_iter: 100\n",
            "iteration: 74 of max_iter: 100\n",
            "iteration: 75 of max_iter: 100\n",
            "iteration: 76 of max_iter: 100\n",
            "iteration: 77 of max_iter: 100\n",
            "iteration: 78 of max_iter: 100\n",
            "iteration: 79 of max_iter: 100\n",
            "iteration: 80 of max_iter: 100\n",
            "iteration: 81 of max_iter: 100\n",
            "iteration: 82 of max_iter: 100\n",
            "iteration: 83 of max_iter: 100\n",
            "iteration: 84 of max_iter: 100\n",
            "iteration: 85 of max_iter: 100\n",
            "iteration: 86 of max_iter: 100\n",
            "iteration: 87 of max_iter: 100\n",
            "iteration: 88 of max_iter: 100\n",
            "iteration: 89 of max_iter: 100\n",
            "iteration: 90 of max_iter: 100\n",
            "iteration: 91 of max_iter: 100\n",
            "iteration: 92 of max_iter: 100\n",
            "iteration: 93 of max_iter: 100\n",
            "iteration: 94 of max_iter: 100\n",
            "iteration: 95 of max_iter: 100\n",
            "iteration: 96 of max_iter: 100\n",
            "iteration: 97 of max_iter: 100\n",
            "iteration: 98 of max_iter: 100\n",
            "iteration: 99 of max_iter: 100\n",
            "iteration: 100 of max_iter: 100\n"
          ],
          "name": "stdout"
        },
        {
          "output_type": "execute_result",
          "data": {
            "text/plain": [
              "LatentDirichletAllocation(batch_size=1000, doc_topic_prior=None,\n",
              "                          evaluate_every=-1, learning_decay=0.7,\n",
              "                          learning_method='online', learning_offset=10.0,\n",
              "                          max_doc_update_iter=100, max_iter=100,\n",
              "                          mean_change_tol=0.001, n_components=60, n_jobs=None,\n",
              "                          perp_tol=0.1, random_state=0, topic_word_prior=None,\n",
              "                          total_samples=1000000.0, verbose=1)"
            ]
          },
          "metadata": {
            "tags": []
          },
          "execution_count": 19
        }
      ]
    },
    {
      "cell_type": "code",
      "metadata": {
        "id": "jIblvFdJFXwM",
        "colab_type": "code",
        "colab": {}
      },
      "source": [
        "prediction_60 = lda.transform(meltPt_prop2_scaled)"
      ],
      "execution_count": 0,
      "outputs": []
    },
    {
      "cell_type": "code",
      "metadata": {
        "id": "-qBeB0HDGFbW",
        "colab_type": "code",
        "outputId": "2cf46141-ae08-4ca8-f67f-a2a3ab34207e",
        "colab": {
          "base_uri": "https://localhost:8080/",
          "height": 34
        }
      },
      "source": [
        "prediction_60.shape"
      ],
      "execution_count": 0,
      "outputs": [
        {
          "output_type": "execute_result",
          "data": {
            "text/plain": [
              "(20719, 60)"
            ]
          },
          "metadata": {
            "tags": []
          },
          "execution_count": 21
        }
      ]
    },
    {
      "cell_type": "code",
      "metadata": {
        "id": "-dtY-8XoGGJJ",
        "colab_type": "code",
        "colab": {}
      },
      "source": [
        "prediction_60_top = [0] * len(prediction_60)\n",
        "prediction_60_prob = [0] * len(prediction_60)\n",
        "for i in range(len(prediction_60)):\n",
        "    prediction_60_top[i] = np.argmax(prediction_60[i], axis=0)\n",
        "    prediction_60_prob[i] = max(prediction_60[i])"
      ],
      "execution_count": 0,
      "outputs": []
    },
    {
      "cell_type": "code",
      "metadata": {
        "id": "goCeFPyGGuVY",
        "colab_type": "code",
        "colab": {}
      },
      "source": [
        "with open(\"prediction_60.txt\", \"w\") as output:\n",
        "    for row in prediction_60_top:\n",
        "        output.write(str(row) + '\\n')"
      ],
      "execution_count": 0,
      "outputs": []
    },
    {
      "cell_type": "code",
      "metadata": {
        "id": "jf0AEoM7h0NY",
        "colab_type": "code",
        "colab": {}
      },
      "source": [
        "with open(\"prediction_60_prob.txt\", \"w\") as output:\n",
        "    for row in prediction_60_prob:\n",
        "        output.write(str(row) + '\\n')"
      ],
      "execution_count": 0,
      "outputs": []
    },
    {
      "cell_type": "code",
      "metadata": {
        "id": "TO70jUmNI-UD",
        "colab_type": "code",
        "colab": {}
      },
      "source": [
        "percentages = [0] * 60\n",
        "for i in range(len(prediction_60_top)):\n",
        "    percentages[prediction_60_top[i]] += 1\n",
        "for i in range(len(percentages)):\n",
        "    percentages[i] = percentages[i] / len(prediction_60_top)"
      ],
      "execution_count": 0,
      "outputs": []
    },
    {
      "cell_type": "code",
      "metadata": {
        "id": "f2hr1X2vHJUa",
        "colab_type": "code",
        "outputId": "e37cec2b-7bee-4836-fa5a-f3e00da1e307",
        "colab": {
          "base_uri": "https://localhost:8080/",
          "height": 295
        }
      },
      "source": [
        "fig, ax = plt.subplots()\n",
        "x = [i for i in range(60)]\n",
        "plt.bar(x, percentages)\n",
        "ax.set_xlabel('topics')\n",
        "ax.set_ylabel('% of molecules in a topic')\n",
        "ax.set_title('60 Topics')\n",
        "plt.show()"
      ],
      "execution_count": 0,
      "outputs": [
        {
          "output_type": "display_data",
          "data": {
            "image/png": "[encoded data removed]",
            "text/plain": [
              "<Figure size 432x288 with 1 Axes>"
            ]
          },
          "metadata": {
            "tags": [],
            "needs_background": "light"
          }
        }
      ]
    },
    {
      "cell_type": "code",
      "metadata": {
        "id": "JdWH1xQEIyZk",
        "colab_type": "code",
        "colab": {}
      },
      "source": [
        "lda = LatentDirichletAllocation(n_components=20, random_state=0, max_iter=100, learning_method='online',\n",
        "                                batch_size=1000, verbose=1)"
      ],
      "execution_count": 0,
      "outputs": []
    },
    {
      "cell_type": "code",
      "metadata": {
        "id": "jPdiaHxtNVg9",
        "colab_type": "code",
        "outputId": "d16e1583-a4c8-4dd0-a31f-fca8c3e7be2b",
        "colab": {
          "base_uri": "https://localhost:8080/",
          "height": 1000
        }
      },
      "source": [
        "lda.fit(meltPt_prop2_scaled)"
      ],
      "execution_count": 0,
      "outputs": [
        {
          "output_type": "stream",
          "text": [
            "iteration: 1 of max_iter: 100\n",
            "iteration: 2 of max_iter: 100\n",
            "iteration: 3 of max_iter: 100\n",
            "iteration: 4 of max_iter: 100\n",
            "iteration: 5 of max_iter: 100\n",
            "iteration: 6 of max_iter: 100\n",
            "iteration: 7 of max_iter: 100\n",
            "iteration: 8 of max_iter: 100\n",
            "iteration: 9 of max_iter: 100\n",
            "iteration: 10 of max_iter: 100\n",
            "iteration: 11 of max_iter: 100\n",
            "iteration: 12 of max_iter: 100\n",
            "iteration: 13 of max_iter: 100\n",
            "iteration: 14 of max_iter: 100\n",
            "iteration: 15 of max_iter: 100\n",
            "iteration: 16 of max_iter: 100\n",
            "iteration: 17 of max_iter: 100\n",
            "iteration: 18 of max_iter: 100\n",
            "iteration: 19 of max_iter: 100\n",
            "iteration: 20 of max_iter: 100\n",
            "iteration: 21 of max_iter: 100\n",
            "iteration: 22 of max_iter: 100\n",
            "iteration: 23 of max_iter: 100\n",
            "iteration: 24 of max_iter: 100\n",
            "iteration: 25 of max_iter: 100\n",
            "iteration: 26 of max_iter: 100\n",
            "iteration: 27 of max_iter: 100\n",
            "iteration: 28 of max_iter: 100\n",
            "iteration: 29 of max_iter: 100\n",
            "iteration: 30 of max_iter: 100\n",
            "iteration: 31 of max_iter: 100\n",
            "iteration: 32 of max_iter: 100\n",
            "iteration: 33 of max_iter: 100\n",
            "iteration: 34 of max_iter: 100\n",
            "iteration: 35 of max_iter: 100\n",
            "iteration: 36 of max_iter: 100\n",
            "iteration: 37 of max_iter: 100\n",
            "iteration: 38 of max_iter: 100\n",
            "iteration: 39 of max_iter: 100\n",
            "iteration: 40 of max_iter: 100\n",
            "iteration: 41 of max_iter: 100\n",
            "iteration: 42 of max_iter: 100\n",
            "iteration: 43 of max_iter: 100\n",
            "iteration: 44 of max_iter: 100\n",
            "iteration: 45 of max_iter: 100\n",
            "iteration: 46 of max_iter: 100\n",
            "iteration: 47 of max_iter: 100\n",
            "iteration: 48 of max_iter: 100\n",
            "iteration: 49 of max_iter: 100\n",
            "iteration: 50 of max_iter: 100\n",
            "iteration: 51 of max_iter: 100\n",
            "iteration: 52 of max_iter: 100\n",
            "iteration: 53 of max_iter: 100\n",
            "iteration: 54 of max_iter: 100\n",
            "iteration: 55 of max_iter: 100\n",
            "iteration: 56 of max_iter: 100\n",
            "iteration: 57 of max_iter: 100\n",
            "iteration: 58 of max_iter: 100\n",
            "iteration: 59 of max_iter: 100\n",
            "iteration: 60 of max_iter: 100\n",
            "iteration: 61 of max_iter: 100\n",
            "iteration: 62 of max_iter: 100\n",
            "iteration: 63 of max_iter: 100\n",
            "iteration: 64 of max_iter: 100\n",
            "iteration: 65 of max_iter: 100\n",
            "iteration: 66 of max_iter: 100\n",
            "iteration: 67 of max_iter: 100\n",
            "iteration: 68 of max_iter: 100\n",
            "iteration: 69 of max_iter: 100\n",
            "iteration: 70 of max_iter: 100\n",
            "iteration: 71 of max_iter: 100\n",
            "iteration: 72 of max_iter: 100\n",
            "iteration: 73 of max_iter: 100\n",
            "iteration: 74 of max_iter: 100\n",
            "iteration: 75 of max_iter: 100\n",
            "iteration: 76 of max_iter: 100\n",
            "iteration: 77 of max_iter: 100\n",
            "iteration: 78 of max_iter: 100\n",
            "iteration: 79 of max_iter: 100\n",
            "iteration: 80 of max_iter: 100\n",
            "iteration: 81 of max_iter: 100\n",
            "iteration: 82 of max_iter: 100\n",
            "iteration: 83 of max_iter: 100\n",
            "iteration: 84 of max_iter: 100\n",
            "iteration: 85 of max_iter: 100\n",
            "iteration: 86 of max_iter: 100\n",
            "iteration: 87 of max_iter: 100\n",
            "iteration: 88 of max_iter: 100\n",
            "iteration: 89 of max_iter: 100\n",
            "iteration: 90 of max_iter: 100\n",
            "iteration: 91 of max_iter: 100\n",
            "iteration: 92 of max_iter: 100\n",
            "iteration: 93 of max_iter: 100\n",
            "iteration: 94 of max_iter: 100\n",
            "iteration: 95 of max_iter: 100\n",
            "iteration: 96 of max_iter: 100\n",
            "iteration: 97 of max_iter: 100\n",
            "iteration: 98 of max_iter: 100\n",
            "iteration: 99 of max_iter: 100\n",
            "iteration: 100 of max_iter: 100\n"
          ],
          "name": "stdout"
        },
        {
          "output_type": "execute_result",
          "data": {
            "text/plain": [
              "LatentDirichletAllocation(batch_size=1000, doc_topic_prior=None,\n",
              "                          evaluate_every=-1, learning_decay=0.7,\n",
              "                          learning_method='online', learning_offset=10.0,\n",
              "                          max_doc_update_iter=100, max_iter=100,\n",
              "                          mean_change_tol=0.001, n_components=20, n_jobs=None,\n",
              "                          perp_tol=0.1, random_state=0, topic_word_prior=None,\n",
              "                          total_samples=1000000.0, verbose=1)"
            ]
          },
          "metadata": {
            "tags": []
          },
          "execution_count": 11
        }
      ]
    },
    {
      "cell_type": "code",
      "metadata": {
        "id": "3iQRiBNqNY82",
        "colab_type": "code",
        "colab": {}
      },
      "source": [
        "prediction_20 = lda.transform(meltPt_prop2_scaled)"
      ],
      "execution_count": 0,
      "outputs": []
    },
    {
      "cell_type": "code",
      "metadata": {
        "id": "-yLd09F5Yr_p",
        "colab_type": "code",
        "colab": {}
      },
      "source": [
        "prediction_20_top = [0] * len(prediction_20)\n",
        "prediction_20_prob = [0] * len(prediction_20)\n",
        "for i in range(len(prediction_20)):\n",
        "    prediction_20_top[i] = np.argmax(prediction_20[i], axis=0)\n",
        "    prediction_20_prob[i] = max(prediction_20[i])"
      ],
      "execution_count": 0,
      "outputs": []
    },
    {
      "cell_type": "code",
      "metadata": {
        "id": "FWV57pTZY0dN",
        "colab_type": "code",
        "colab": {}
      },
      "source": [
        "with open(\"prediction_20.txt\", \"w\") as output:\n",
        "    for row in prediction_20_top:\n",
        "        output.write(str(row) + '\\n')"
      ],
      "execution_count": 0,
      "outputs": []
    },
    {
      "cell_type": "code",
      "metadata": {
        "id": "8UIhOz4i6m2n",
        "colab_type": "code",
        "colab": {}
      },
      "source": [
        "with open(\"prediction_20_prob.txt\", \"w\") as output:\n",
        "    for row in prediction_20_prob:\n",
        "        output.write(str(row) + '\\n')"
      ],
      "execution_count": 0,
      "outputs": []
    },
    {
      "cell_type": "code",
      "metadata": {
        "id": "Dj-BU1txY1sy",
        "colab_type": "code",
        "colab": {}
      },
      "source": [
        "percentages = [0] * 20\n",
        "for i in range(len(prediction_20_top)):\n",
        "    percentages[prediction_20_top[i]] += 1\n",
        "for i in range(len(percentages)):\n",
        "    percentages[i] = percentages[i] / len(prediction_20_top)"
      ],
      "execution_count": 0,
      "outputs": []
    },
    {
      "cell_type": "code",
      "metadata": {
        "id": "G8Roc8hzY668",
        "colab_type": "code",
        "outputId": "3083ea99-d263-41f2-d15a-c3f50b5c3372",
        "colab": {
          "base_uri": "https://localhost:8080/",
          "height": 295
        }
      },
      "source": [
        "fig, ax = plt.subplots()\n",
        "x = [i for i in range(20)]\n",
        "plt.bar(x, percentages)\n",
        "ax.set_xlabel('topics')\n",
        "ax.set_ylabel('% of molecules in a topic')\n",
        "ax.set_title('20 Topics')\n",
        "plt.show()"
      ],
      "execution_count": 0,
      "outputs": [
        {
          "output_type": "display_data",
          "data": {
            "image/png": "[encoded data removed]",
            "text/plain": [
              "<Figure size 432x288 with 1 Axes>"
            ]
          },
          "metadata": {
            "tags": [],
            "needs_background": "light"
          }
        }
      ]
    },
    {
      "cell_type": "code",
      "metadata": {
        "id": "21hK3q-pZAYe",
        "colab_type": "code",
        "colab": {}
      },
      "source": [
        "lda = LatentDirichletAllocation(n_components=40, random_state=0, max_iter=100, learning_method='online',\n",
        "                                batch_size=1000, verbose=1)"
      ],
      "execution_count": 0,
      "outputs": []
    },
    {
      "cell_type": "code",
      "metadata": {
        "id": "B4tahTtUZEMV",
        "colab_type": "code",
        "outputId": "50b34da2-655b-4196-ef33-f8a4a83fb4ad",
        "colab": {
          "base_uri": "https://localhost:8080/",
          "height": 1000
        }
      },
      "source": [
        "lda.fit(meltPt_prop2_scaled)"
      ],
      "execution_count": 0,
      "outputs": [
        {
          "output_type": "stream",
          "text": [
            "iteration: 1 of max_iter: 100\n",
            "iteration: 2 of max_iter: 100\n",
            "iteration: 3 of max_iter: 100\n",
            "iteration: 4 of max_iter: 100\n",
            "iteration: 5 of max_iter: 100\n",
            "iteration: 6 of max_iter: 100\n",
            "iteration: 7 of max_iter: 100\n",
            "iteration: 8 of max_iter: 100\n",
            "iteration: 9 of max_iter: 100\n",
            "iteration: 10 of max_iter: 100\n",
            "iteration: 11 of max_iter: 100\n",
            "iteration: 12 of max_iter: 100\n",
            "iteration: 13 of max_iter: 100\n",
            "iteration: 14 of max_iter: 100\n",
            "iteration: 15 of max_iter: 100\n",
            "iteration: 16 of max_iter: 100\n",
            "iteration: 17 of max_iter: 100\n",
            "iteration: 18 of max_iter: 100\n",
            "iteration: 19 of max_iter: 100\n",
            "iteration: 20 of max_iter: 100\n",
            "iteration: 21 of max_iter: 100\n",
            "iteration: 22 of max_iter: 100\n",
            "iteration: 23 of max_iter: 100\n",
            "iteration: 24 of max_iter: 100\n",
            "iteration: 25 of max_iter: 100\n",
            "iteration: 26 of max_iter: 100\n",
            "iteration: 27 of max_iter: 100\n",
            "iteration: 28 of max_iter: 100\n",
            "iteration: 29 of max_iter: 100\n",
            "iteration: 30 of max_iter: 100\n",
            "iteration: 31 of max_iter: 100\n",
            "iteration: 32 of max_iter: 100\n",
            "iteration: 33 of max_iter: 100\n",
            "iteration: 34 of max_iter: 100\n",
            "iteration: 35 of max_iter: 100\n",
            "iteration: 36 of max_iter: 100\n",
            "iteration: 37 of max_iter: 100\n",
            "iteration: 38 of max_iter: 100\n",
            "iteration: 39 of max_iter: 100\n",
            "iteration: 40 of max_iter: 100\n",
            "iteration: 41 of max_iter: 100\n",
            "iteration: 42 of max_iter: 100\n",
            "iteration: 43 of max_iter: 100\n",
            "iteration: 44 of max_iter: 100\n",
            "iteration: 45 of max_iter: 100\n",
            "iteration: 46 of max_iter: 100\n",
            "iteration: 47 of max_iter: 100\n",
            "iteration: 48 of max_iter: 100\n",
            "iteration: 49 of max_iter: 100\n",
            "iteration: 50 of max_iter: 100\n",
            "iteration: 51 of max_iter: 100\n",
            "iteration: 52 of max_iter: 100\n",
            "iteration: 53 of max_iter: 100\n",
            "iteration: 54 of max_iter: 100\n",
            "iteration: 55 of max_iter: 100\n",
            "iteration: 56 of max_iter: 100\n",
            "iteration: 57 of max_iter: 100\n",
            "iteration: 58 of max_iter: 100\n",
            "iteration: 59 of max_iter: 100\n",
            "iteration: 60 of max_iter: 100\n",
            "iteration: 61 of max_iter: 100\n",
            "iteration: 62 of max_iter: 100\n",
            "iteration: 63 of max_iter: 100\n",
            "iteration: 64 of max_iter: 100\n",
            "iteration: 65 of max_iter: 100\n",
            "iteration: 66 of max_iter: 100\n",
            "iteration: 67 of max_iter: 100\n",
            "iteration: 68 of max_iter: 100\n",
            "iteration: 69 of max_iter: 100\n",
            "iteration: 70 of max_iter: 100\n",
            "iteration: 71 of max_iter: 100\n",
            "iteration: 72 of max_iter: 100\n",
            "iteration: 73 of max_iter: 100\n",
            "iteration: 74 of max_iter: 100\n",
            "iteration: 75 of max_iter: 100\n",
            "iteration: 76 of max_iter: 100\n",
            "iteration: 77 of max_iter: 100\n",
            "iteration: 78 of max_iter: 100\n",
            "iteration: 79 of max_iter: 100\n",
            "iteration: 80 of max_iter: 100\n",
            "iteration: 81 of max_iter: 100\n",
            "iteration: 82 of max_iter: 100\n",
            "iteration: 83 of max_iter: 100\n",
            "iteration: 84 of max_iter: 100\n",
            "iteration: 85 of max_iter: 100\n",
            "iteration: 86 of max_iter: 100\n",
            "iteration: 87 of max_iter: 100\n",
            "iteration: 88 of max_iter: 100\n",
            "iteration: 89 of max_iter: 100\n",
            "iteration: 90 of max_iter: 100\n",
            "iteration: 91 of max_iter: 100\n",
            "iteration: 92 of max_iter: 100\n",
            "iteration: 93 of max_iter: 100\n",
            "iteration: 94 of max_iter: 100\n",
            "iteration: 95 of max_iter: 100\n",
            "iteration: 96 of max_iter: 100\n",
            "iteration: 97 of max_iter: 100\n",
            "iteration: 98 of max_iter: 100\n",
            "iteration: 99 of max_iter: 100\n",
            "iteration: 100 of max_iter: 100\n"
          ],
          "name": "stdout"
        },
        {
          "output_type": "execute_result",
          "data": {
            "text/plain": [
              "LatentDirichletAllocation(batch_size=1000, doc_topic_prior=None,\n",
              "                          evaluate_every=-1, learning_decay=0.7,\n",
              "                          learning_method='online', learning_offset=10.0,\n",
              "                          max_doc_update_iter=100, max_iter=100,\n",
              "                          mean_change_tol=0.001, n_components=40, n_jobs=None,\n",
              "                          perp_tol=0.1, random_state=0, topic_word_prior=None,\n",
              "                          total_samples=1000000.0, verbose=1)"
            ]
          },
          "metadata": {
            "tags": []
          },
          "execution_count": 12
        }
      ]
    },
    {
      "cell_type": "code",
      "metadata": {
        "id": "vo5OF5jRZH7g",
        "colab_type": "code",
        "colab": {}
      },
      "source": [
        "prediction_40 = lda.transform(meltPt_prop2_scaled)"
      ],
      "execution_count": 0,
      "outputs": []
    },
    {
      "cell_type": "code",
      "metadata": {
        "id": "BWaKkxBvukG2",
        "colab_type": "code",
        "colab": {}
      },
      "source": [
        "prediction_40_top = [0] * len(prediction_40)\n",
        "prediction_40_prob = [0] * len(prediction_40)\n",
        "for i in range(len(prediction_40)):\n",
        "    prediction_40_top[i] = np.argmax(prediction_40[i], axis=0)\n",
        "    prediction_40_prob[i] = max(prediction_40[i])"
      ],
      "execution_count": 0,
      "outputs": []
    },
    {
      "cell_type": "code",
      "metadata": {
        "id": "8yMaPpo6u57n",
        "colab_type": "code",
        "colab": {}
      },
      "source": [
        "with open(\"prediction_40.txt\", \"w\") as output:\n",
        "    for row in prediction_40_top:\n",
        "        output.write(str(row) + '\\n')"
      ],
      "execution_count": 0,
      "outputs": []
    },
    {
      "cell_type": "code",
      "metadata": {
        "id": "gkkVyKOmXjza",
        "colab_type": "code",
        "colab": {}
      },
      "source": [
        "with open(\"prediction_40_prob.txt\", \"w\") as output:\n",
        "    for row in prediction_40_prob:\n",
        "        output.write(str(row) + '\\n')"
      ],
      "execution_count": 0,
      "outputs": []
    },
    {
      "cell_type": "code",
      "metadata": {
        "id": "MSr47nocu_xl",
        "colab_type": "code",
        "colab": {}
      },
      "source": [
        "percentages = [0] * 40\n",
        "for i in range(len(prediction_40_top)):\n",
        "    percentages[prediction_40_top[i]] += 1\n",
        "for i in range(len(percentages)):\n",
        "    percentages[i] = percentages[i] / len(prediction_40_top)"
      ],
      "execution_count": 0,
      "outputs": []
    },
    {
      "cell_type": "code",
      "metadata": {
        "id": "zZpdOYwAvFhu",
        "colab_type": "code",
        "outputId": "043d22ea-1325-4e9e-fd99-e9bec84d69b2",
        "colab": {
          "base_uri": "https://localhost:8080/",
          "height": 295
        }
      },
      "source": [
        "fig, ax = plt.subplots()\n",
        "x = [i for i in range(40)]\n",
        "plt.bar(x, percentages)\n",
        "ax.set_xlabel('topics')\n",
        "ax.set_ylabel('% of molecules in a topic')\n",
        "ax.set_title('40 Topics')\n",
        "plt.show()"
      ],
      "execution_count": 0,
      "outputs": [
        {
          "output_type": "display_data",
          "data": {
            "image/png": "[encoded data removed]",
            "text/plain": [
              "<Figure size 432x288 with 1 Axes>"
            ]
          },
          "metadata": {
            "tags": [],
            "needs_background": "light"
          }
        }
      ]
    },
    {
      "cell_type": "code",
      "metadata": {
        "id": "pPjXzPFmDD6n",
        "colab_type": "code",
        "colab": {}
      },
      "source": [
        ""
      ],
      "execution_count": 0,
      "outputs": []
    }
  ]
}