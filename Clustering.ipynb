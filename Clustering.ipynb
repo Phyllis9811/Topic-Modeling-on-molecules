{
  "nbformat": 4,
  "nbformat_minor": 0,
  "metadata": {
    "colab": {
      "name": "Clustering.ipynb",
      "provenance": [],
      "toc_visible": true
    },
    "kernelspec": {
      "name": "python3",
      "display_name": "Python 3"
    }
  },
  "cells": [
    {
      "cell_type": "code",
      "metadata": {
        "id": "npcSZg8hvkGO",
        "colab_type": "code",
        "colab": {}
      },
      "source": [
        "import pandas as pd\n",
        "import numpy as np\n",
        "from sklearn.decomposition import LatentDirichletAllocation"
      ],
      "execution_count": 0,
      "outputs": []
    },
    {
      "cell_type": "code",
      "metadata": {
        "id": "5PX5nvBP90kT",
        "colab_type": "code",
        "outputId": "2cfe1837-cb07-4f6c-fdd7-823dec4caadd",
        "colab": {
          "base_uri": "https://localhost:8080/",
          "height": 71
        }
      },
      "source": [
        "%matplotlib inline\n",
        "import matplotlib.pyplot as plt\n",
        "import seaborn as sns; sns.set()"
      ],
      "execution_count": 0,
      "outputs": [
        {
          "output_type": "stream",
          "text": [
            "/usr/local/lib/python3.6/dist-packages/statsmodels/tools/_testing.py:19: FutureWarning: pandas.util.testing is deprecated. Use the functions in the public API at pandas.testing instead.\n",
            "  import pandas.util.testing as tm\n"
          ],
          "name": "stderr"
        }
      ]
    },
    {
      "cell_type": "code",
      "metadata": {
        "id": "0_IL8XgU-AW_",
        "colab_type": "code",
        "colab": {}
      },
      "source": [
        "from sklearn.mixture import GaussianMixture"
      ],
      "execution_count": 0,
      "outputs": []
    },
    {
      "cell_type": "code",
      "metadata": {
        "id": "LPQ0dsoqzAsb",
        "colab_type": "code",
        "colab": {}
      },
      "source": [
        "meltPt_prop2 = pd.read_csv('/content/drive/My Drive/Data_LDA/cleaned_MeltingPt_vecs.csv')"
      ],
      "execution_count": 0,
      "outputs": []
    },
    {
      "cell_type": "code",
      "metadata": {
        "id": "VMSiZYON0er5",
        "colab_type": "code",
        "outputId": "512a590d-e093-40a0-bae9-2c61ed56cfde",
        "colab": {
          "base_uri": "https://localhost:8080/",
          "height": 292
        }
      },
      "source": [
        "labels = pd.read_csv('/content/drive/My Drive/Data_LDA/meltPt_prop2.csv')\n",
        "labels.head()"
      ],
      "execution_count": 0,
      "outputs": [
        {
          "output_type": "execute_result",
          "data": {
            "text/html": [
              "<div>\n",
              "<style scoped>\n",
              "    .dataframe tbody tr th:only-of-type {\n",
              "        vertical-align: middle;\n",
              "    }\n",
              "\n",
              "    .dataframe tbody tr th {\n",
              "        vertical-align: top;\n",
              "    }\n",
              "\n",
              "    .dataframe thead th {\n",
              "        text-align: right;\n",
              "    }\n",
              "</style>\n",
              "<table border=\"1\" class=\"dataframe\">\n",
              "  <thead>\n",
              "    <tr style=\"text-align: right;\">\n",
              "      <th></th>\n",
              "      <th>Unnamed: 0</th>\n",
              "      <th>smiles</th>\n",
              "      <th>mf</th>\n",
              "      <th>mw</th>\n",
              "      <th>em</th>\n",
              "      <th>logP</th>\n",
              "      <th>logS</th>\n",
              "      <th>psa</th>\n",
              "      <th>donorCount</th>\n",
              "      <th>centerCount</th>\n",
              "      <th>rotatableBondCount</th>\n",
              "      <th>acceptorCount</th>\n",
              "      <th>mpC</th>\n",
              "    </tr>\n",
              "  </thead>\n",
              "  <tbody>\n",
              "    <tr>\n",
              "      <th>0</th>\n",
              "      <td>0</td>\n",
              "      <td>B(C)(C)Br                                    ...</td>\n",
              "      <td>C2H6BBr</td>\n",
              "      <td>120.78464</td>\n",
              "      <td>119.974591</td>\n",
              "      <td>1.3934</td>\n",
              "      <td>1.781</td>\n",
              "      <td>0.000000</td>\n",
              "      <td>0</td>\n",
              "      <td>0</td>\n",
              "      <td>0</td>\n",
              "      <td>0</td>\n",
              "      <td>-129.0</td>\n",
              "    </tr>\n",
              "    <tr>\n",
              "      <th>1</th>\n",
              "      <td>1</td>\n",
              "      <td>B(C)(O)O                                     ...</td>\n",
              "      <td>CH5O2B</td>\n",
              "      <td>59.85970</td>\n",
              "      <td>60.038260</td>\n",
              "      <td>0.6967</td>\n",
              "      <td>1.820</td>\n",
              "      <td>40.459999</td>\n",
              "      <td>2</td>\n",
              "      <td>0</td>\n",
              "      <td>0</td>\n",
              "      <td>2</td>\n",
              "      <td>92.0</td>\n",
              "    </tr>\n",
              "    <tr>\n",
              "      <th>2</th>\n",
              "      <td>2</td>\n",
              "      <td>B(C1CC1)(O)O                                 ...</td>\n",
              "      <td>C3H7O2B</td>\n",
              "      <td>85.89758</td>\n",
              "      <td>86.053910</td>\n",
              "      <td>0.6840</td>\n",
              "      <td>1.470</td>\n",
              "      <td>40.459999</td>\n",
              "      <td>2</td>\n",
              "      <td>0</td>\n",
              "      <td>1</td>\n",
              "      <td>2</td>\n",
              "      <td>93.0</td>\n",
              "    </tr>\n",
              "    <tr>\n",
              "      <th>3</th>\n",
              "      <td>3</td>\n",
              "      <td>B(C=CCC(C)C)(O)O                             ...</td>\n",
              "      <td>C6H13O2B</td>\n",
              "      <td>127.97822</td>\n",
              "      <td>128.100860</td>\n",
              "      <td>1.9440</td>\n",
              "      <td>0.927</td>\n",
              "      <td>40.459999</td>\n",
              "      <td>2</td>\n",
              "      <td>0</td>\n",
              "      <td>3</td>\n",
              "      <td>2</td>\n",
              "      <td>101.0</td>\n",
              "    </tr>\n",
              "    <tr>\n",
              "      <th>4</th>\n",
              "      <td>4</td>\n",
              "      <td>B(C=CCCC)(O)O                                ...</td>\n",
              "      <td>C5H11O2B</td>\n",
              "      <td>113.95134</td>\n",
              "      <td>114.085210</td>\n",
              "      <td>1.7257</td>\n",
              "      <td>1.087</td>\n",
              "      <td>40.459999</td>\n",
              "      <td>2</td>\n",
              "      <td>0</td>\n",
              "      <td>3</td>\n",
              "      <td>2</td>\n",
              "      <td>80.0</td>\n",
              "    </tr>\n",
              "  </tbody>\n",
              "</table>\n",
              "</div>"
            ],
            "text/plain": [
              "   Unnamed: 0  ...    mpC\n",
              "0           0  ... -129.0\n",
              "1           1  ...   92.0\n",
              "2           2  ...   93.0\n",
              "3           3  ...  101.0\n",
              "4           4  ...   80.0\n",
              "\n",
              "[5 rows x 13 columns]"
            ]
          },
          "metadata": {
            "tags": []
          },
          "execution_count": 5
        }
      ]
    },
    {
      "cell_type": "code",
      "metadata": {
        "id": "fBh1_7hh1BOl",
        "colab_type": "code",
        "outputId": "5a94da50-325a-4390-8cf4-c52e78ce66f2",
        "colab": {
          "base_uri": "https://localhost:8080/",
          "height": 289
        }
      },
      "source": [
        "labels.set_index('smiles', inplace=True)\n",
        "labels.drop(columns=[\"Unnamed: 0\"], inplace=True)\n",
        "labels.drop(columns=[\"mf\"], inplace=True)\n",
        "labels.head()"
      ],
      "execution_count": 0,
      "outputs": [
        {
          "output_type": "execute_result",
          "data": {
            "text/html": [
              "<div>\n",
              "<style scoped>\n",
              "    .dataframe tbody tr th:only-of-type {\n",
              "        vertical-align: middle;\n",
              "    }\n",
              "\n",
              "    .dataframe tbody tr th {\n",
              "        vertical-align: top;\n",
              "    }\n",
              "\n",
              "    .dataframe thead th {\n",
              "        text-align: right;\n",
              "    }\n",
              "</style>\n",
              "<table border=\"1\" class=\"dataframe\">\n",
              "  <thead>\n",
              "    <tr style=\"text-align: right;\">\n",
              "      <th></th>\n",
              "      <th>mw</th>\n",
              "      <th>em</th>\n",
              "      <th>logP</th>\n",
              "      <th>logS</th>\n",
              "      <th>psa</th>\n",
              "      <th>donorCount</th>\n",
              "      <th>centerCount</th>\n",
              "      <th>rotatableBondCount</th>\n",
              "      <th>acceptorCount</th>\n",
              "      <th>mpC</th>\n",
              "    </tr>\n",
              "    <tr>\n",
              "      <th>smiles</th>\n",
              "      <th></th>\n",
              "      <th></th>\n",
              "      <th></th>\n",
              "      <th></th>\n",
              "      <th></th>\n",
              "      <th></th>\n",
              "      <th></th>\n",
              "      <th></th>\n",
              "      <th></th>\n",
              "      <th></th>\n",
              "    </tr>\n",
              "  </thead>\n",
              "  <tbody>\n",
              "    <tr>\n",
              "      <th>B(C)(C)Br</th>\n",
              "      <td>120.78464</td>\n",
              "      <td>119.974591</td>\n",
              "      <td>1.3934</td>\n",
              "      <td>1.781</td>\n",
              "      <td>0.000000</td>\n",
              "      <td>0</td>\n",
              "      <td>0</td>\n",
              "      <td>0</td>\n",
              "      <td>0</td>\n",
              "      <td>-129.0</td>\n",
              "    </tr>\n",
              "    <tr>\n",
              "      <th>B(C)(O)O</th>\n",
              "      <td>59.85970</td>\n",
              "      <td>60.038260</td>\n",
              "      <td>0.6967</td>\n",
              "      <td>1.820</td>\n",
              "      <td>40.459999</td>\n",
              "      <td>2</td>\n",
              "      <td>0</td>\n",
              "      <td>0</td>\n",
              "      <td>2</td>\n",
              "      <td>92.0</td>\n",
              "    </tr>\n",
              "    <tr>\n",
              "      <th>B(C1CC1)(O)O</th>\n",
              "      <td>85.89758</td>\n",
              "      <td>86.053910</td>\n",
              "      <td>0.6840</td>\n",
              "      <td>1.470</td>\n",
              "      <td>40.459999</td>\n",
              "      <td>2</td>\n",
              "      <td>0</td>\n",
              "      <td>1</td>\n",
              "      <td>2</td>\n",
              "      <td>93.0</td>\n",
              "    </tr>\n",
              "    <tr>\n",
              "      <th>B(C=CCC(C)C)(O)O</th>\n",
              "      <td>127.97822</td>\n",
              "      <td>128.100860</td>\n",
              "      <td>1.9440</td>\n",
              "      <td>0.927</td>\n",
              "      <td>40.459999</td>\n",
              "      <td>2</td>\n",
              "      <td>0</td>\n",
              "      <td>3</td>\n",
              "      <td>2</td>\n",
              "      <td>101.0</td>\n",
              "    </tr>\n",
              "    <tr>\n",
              "      <th>B(C=CCCC)(O)O</th>\n",
              "      <td>113.95134</td>\n",
              "      <td>114.085210</td>\n",
              "      <td>1.7257</td>\n",
              "      <td>1.087</td>\n",
              "      <td>40.459999</td>\n",
              "      <td>2</td>\n",
              "      <td>0</td>\n",
              "      <td>3</td>\n",
              "      <td>2</td>\n",
              "      <td>80.0</td>\n",
              "    </tr>\n",
              "  </tbody>\n",
              "</table>\n",
              "</div>"
            ],
            "text/plain": [
              "                                                           mw  ...    mpC\n",
              "smiles                                                         ...       \n",
              " B(C)(C)Br                                     ...  120.78464  ... -129.0\n",
              " B(C)(O)O                                      ...   59.85970  ...   92.0\n",
              " B(C1CC1)(O)O                                  ...   85.89758  ...   93.0\n",
              " B(C=CCC(C)C)(O)O                              ...  127.97822  ...  101.0\n",
              " B(C=CCCC)(O)O                                 ...  113.95134  ...   80.0\n",
              "\n",
              "[5 rows x 10 columns]"
            ]
          },
          "metadata": {
            "tags": []
          },
          "execution_count": 6
        }
      ]
    },
    {
      "cell_type": "code",
      "metadata": {
        "id": "gZ9WsPT-6ihU",
        "colab_type": "code",
        "outputId": "8e7c12af-70a6-4e03-bbda-6b5a98215910",
        "colab": {
          "base_uri": "https://localhost:8080/",
          "height": 34
        }
      },
      "source": [
        "labels.shape"
      ],
      "execution_count": 0,
      "outputs": [
        {
          "output_type": "execute_result",
          "data": {
            "text/plain": [
              "(20719, 10)"
            ]
          },
          "metadata": {
            "tags": []
          },
          "execution_count": 7
        }
      ]
    },
    {
      "cell_type": "code",
      "metadata": {
        "id": "oEcfoz776k54",
        "colab_type": "code",
        "outputId": "33db3606-c1d6-4783-a1ac-e19d3b05e47e",
        "colab": {
          "base_uri": "https://localhost:8080/",
          "height": 296
        }
      },
      "source": [
        "n_components = np.arange(1, 20)\n",
        "models = [GaussianMixture(n, covariance_type='full', random_state=0).fit(labels)\n",
        "          for n in n_components]\n",
        "\n",
        "plt.plot(n_components, [m.bic(labels) for m in models], label='BIC')\n",
        "plt.plot(n_components, [m.aic(labels) for m in models], label='AIC')\n",
        "plt.legend(loc='best')\n",
        "plt.xlabel('n_components');"
      ],
      "execution_count": 0,
      "outputs": [
        {
          "output_type": "display_data",
          "data": {
            "image/png": "[encoded data removed]",
            "text/plain": [
              "<Figure size 432x288 with 1 Axes>"
            ]
          },
          "metadata": {
            "tags": []
          }
        }
      ]
    },
    {
      "cell_type": "code",
      "metadata": {
        "id": "hd9dSC2f_GaH",
        "colab_type": "code",
        "outputId": "ede7950a-9ada-4a4b-d5ba-bfa84a6cf47b",
        "colab": {
          "base_uri": "https://localhost:8080/",
          "height": 285
        }
      },
      "source": [
        "n_components = np.arange(10, 30)\n",
        "models = [GaussianMixture(n, covariance_type='full', random_state=0).fit(labels)\n",
        "          for n in n_components]\n",
        "\n",
        "plt.plot(n_components, [m.bic(labels) for m in models], label='BIC')\n",
        "plt.plot(n_components, [m.aic(labels) for m in models], label='AIC')\n",
        "plt.legend(loc='best')\n",
        "plt.xlabel('n_components');"
      ],
      "execution_count": 0,
      "outputs": [
        {
          "output_type": "display_data",
          "data": {
            "image/png": "[encoded data removed]",
            "text/plain": [
              "<Figure size 432x288 with 1 Axes>"
            ]
          },
          "metadata": {
            "tags": []
          }
        }
      ]
    },
    {
      "cell_type": "code",
      "metadata": {
        "id": "eKDI1IjW9r_P",
        "colab_type": "code",
        "colab": {}
      },
      "source": [
        "prediction_20 = GaussianMixture(20, covariance_type='full', random_state=0).fit(labels).predict(labels)"
      ],
      "execution_count": 0,
      "outputs": []
    },
    {
      "cell_type": "code",
      "metadata": {
        "id": "zAtDim5vB8HT",
        "colab_type": "code",
        "outputId": "6e6259dd-7738-4ad7-f954-27c68a7d7e46",
        "colab": {
          "base_uri": "https://localhost:8080/",
          "height": 34
        }
      },
      "source": [
        "prediction_20"
      ],
      "execution_count": 0,
      "outputs": [
        {
          "output_type": "execute_result",
          "data": {
            "text/plain": [
              "array([14, 13, 13, ..., 14, 14, 14])"
            ]
          },
          "metadata": {
            "tags": []
          },
          "execution_count": 10
        }
      ]
    },
    {
      "cell_type": "code",
      "metadata": {
        "id": "gbtfN0XWP7kJ",
        "colab_type": "code",
        "outputId": "6c4b8dc2-cdf5-4390-99d1-8de789789749",
        "colab": {
          "base_uri": "https://localhost:8080/",
          "height": 51
        }
      },
      "source": [
        "print(min(prediction_20))\n",
        "print(max(prediction_20))"
      ],
      "execution_count": 0,
      "outputs": [
        {
          "output_type": "stream",
          "text": [
            "0\n",
            "19\n"
          ],
          "name": "stdout"
        }
      ]
    },
    {
      "cell_type": "code",
      "metadata": {
        "id": "zLgVdA6PP_Lf",
        "colab_type": "code",
        "colab": {}
      },
      "source": [
        "percentages = [0] * 20\n",
        "for i in range(len(prediction_20)):\n",
        "    percentages[prediction_20[i]] += 1\n",
        "for i in range(len(percentages)):\n",
        "    percentages[i] = percentages[i] / len(prediction_20)"
      ],
      "execution_count": 0,
      "outputs": []
    },
    {
      "cell_type": "code",
      "metadata": {
        "id": "d8sYc3QzQITj",
        "colab_type": "code",
        "outputId": "8c736ff3-9387-403d-ccf0-50b9daa39a18",
        "colab": {
          "base_uri": "https://localhost:8080/",
          "height": 301
        }
      },
      "source": [
        "fig, ax = plt.subplots()\n",
        "x = [i for i in range(20)]\n",
        "plt.bar(x, percentages)\n",
        "ax.set_xlabel('clusters')\n",
        "ax.set_ylabel('% of molecules in a cluster')\n",
        "ax.set_title('20 Clusters')\n",
        "plt.show()"
      ],
      "execution_count": 0,
      "outputs": [
        {
          "output_type": "display_data",
          "data": {
            "image/png": "[encoded data removed]",
            "text/plain": [
              "<Figure size 432x288 with 1 Axes>"
            ]
          },
          "metadata": {
            "tags": []
          }
        }
      ]
    },
    {
      "cell_type": "code",
      "metadata": {
        "id": "FdFno7mjVhBm",
        "colab_type": "code",
        "outputId": "9c6312a2-37b2-4ef1-e979-965f36edfc1f",
        "colab": {
          "base_uri": "https://localhost:8080/",
          "height": 68
        }
      },
      "source": [
        "prediction_40 = GaussianMixture(40, covariance_type='full', random_state=0).fit(labels).predict(labels)\n",
        "print(prediction_40)\n",
        "\n",
        "print(min(prediction_40))\n",
        "print(max(prediction_40))"
      ],
      "execution_count": 0,
      "outputs": [
        {
          "output_type": "stream",
          "text": [
            "[29  5  5 ... 12 12 12]\n",
            "0\n",
            "39\n"
          ],
          "name": "stdout"
        }
      ]
    },
    {
      "cell_type": "code",
      "metadata": {
        "id": "DLRuczY0WiNG",
        "colab_type": "code",
        "colab": {}
      },
      "source": [
        "percentages = [0] * 40\n",
        "for i in range(len(prediction_40)):\n",
        "    percentages[prediction_40[i]] += 1\n",
        "for i in range(len(percentages)):\n",
        "    percentages[i] = percentages[i] / len(prediction_40)"
      ],
      "execution_count": 0,
      "outputs": []
    },
    {
      "cell_type": "code",
      "metadata": {
        "id": "mrQDyMFYWwIH",
        "colab_type": "code",
        "outputId": "c981f0e2-0aa4-4f90-e58a-1bbadd63e139",
        "colab": {
          "base_uri": "https://localhost:8080/",
          "height": 301
        }
      },
      "source": [
        "fig, ax = plt.subplots()\n",
        "x = [i for i in range(40)]\n",
        "plt.bar(x, percentages)\n",
        "ax.set_xlabel('clusters')\n",
        "ax.set_ylabel('% of molecules in a cluster')\n",
        "ax.set_title('40 Clusters')\n",
        "plt.show()"
      ],
      "execution_count": 0,
      "outputs": [
        {
          "output_type": "display_data",
          "data": {
            "image/png": "[encoded data removed]",
            "text/plain": [
              "<Figure size 432x288 with 1 Axes>"
            ]
          },
          "metadata": {
            "tags": []
          }
        }
      ]
    },
    {
      "cell_type": "code",
      "metadata": {
        "id": "OGFHIeCfCBAI",
        "colab_type": "code",
        "colab": {}
      },
      "source": [
        "prediction_60 = GaussianMixture(60, covariance_type='full', random_state=0).fit(labels).predict(labels)"
      ],
      "execution_count": 0,
      "outputs": []
    },
    {
      "cell_type": "code",
      "metadata": {
        "id": "9DSTEGJUCFVK",
        "colab_type": "code",
        "outputId": "815eec36-6911-4ffc-813a-3361f8e100f4",
        "colab": {
          "base_uri": "https://localhost:8080/",
          "height": 34
        }
      },
      "source": [
        "prediction_60"
      ],
      "execution_count": 0,
      "outputs": [
        {
          "output_type": "execute_result",
          "data": {
            "text/plain": [
              "array([ 4, 31, 31, ..., 15, 15, 15])"
            ]
          },
          "metadata": {
            "tags": []
          },
          "execution_count": 24
        }
      ]
    },
    {
      "cell_type": "code",
      "metadata": {
        "id": "43kJgBBdD8Ws",
        "colab_type": "code",
        "outputId": "17727ced-85a1-463a-d936-b10e34a9fb67",
        "colab": {
          "base_uri": "https://localhost:8080/",
          "height": 51
        }
      },
      "source": [
        "print(min(prediction_60))\n",
        "print(max(prediction_60))"
      ],
      "execution_count": 0,
      "outputs": [
        {
          "output_type": "stream",
          "text": [
            "0\n",
            "59\n"
          ],
          "name": "stdout"
        }
      ]
    },
    {
      "cell_type": "code",
      "metadata": {
        "id": "2WpiBZPqCaNC",
        "colab_type": "code",
        "colab": {}
      },
      "source": [
        "percentages = [0] * 60\n",
        "for i in range(len(prediction_60)):\n",
        "    percentages[prediction_60[i]] += 1\n",
        "for i in range(len(percentages)):\n",
        "    percentages[i] = percentages[i] / len(prediction_60)"
      ],
      "execution_count": 0,
      "outputs": []
    },
    {
      "cell_type": "code",
      "metadata": {
        "id": "EkD7I-m-EQV3",
        "colab_type": "code",
        "outputId": "7f9d648d-b766-4a87-cd2b-518da45e4dbd",
        "colab": {
          "base_uri": "https://localhost:8080/",
          "height": 301
        }
      },
      "source": [
        "fig, ax = plt.subplots()\n",
        "plt.bar(x, percentages)\n",
        "ax.set_xlabel('clusters')\n",
        "ax.set_ylabel('% of molecules in a cluster')\n",
        "ax.set_title('60 Clusters')\n",
        "plt.show()"
      ],
      "execution_count": 0,
      "outputs": [
        {
          "output_type": "display_data",
          "data": {
            "image/png": "[encoded data removed]",
            "text/plain": [
              "<Figure size 432x288 with 1 Axes>"
            ]
          },
          "metadata": {
            "tags": []
          }
        }
      ]
    },
    {
      "cell_type": "code",
      "metadata": {
        "id": "6x4udLuVF1YF",
        "colab_type": "code",
        "outputId": "2a92bf9c-63d1-4322-bb17-fad6a128974f",
        "colab": {
          "base_uri": "https://localhost:8080/",
          "height": 85
        }
      },
      "source": [
        "# clustering\n",
        "from sklearn import metrics\n",
        "from sklearn.metrics import pairwise_distances\n",
        "from sklearn.metrics import davies_bouldin_score\n",
        "clusters = [10, 20, 40, 60]\n",
        "scores = []\n",
        "for n in clusters: \n",
        "    prediction = GaussianMixture(n, covariance_type='full', random_state=0).fit(labels).predict(labels)\n",
        "    score = metrics.silhouette_score(labels, prediction, metric='euclidean')\n",
        "    print(score)\n",
        "    scores.append(score)"
      ],
      "execution_count": 0,
      "outputs": [
        {
          "output_type": "stream",
          "text": [
            "-0.11002685988260165\n",
            "-0.2301208496206736\n",
            "-0.3096487395145157\n",
            "-0.46497097721513064\n"
          ],
          "name": "stdout"
        }
      ]
    },
    {
      "cell_type": "code",
      "metadata": {
        "id": "y5UV1FVJVXKR",
        "colab_type": "code",
        "outputId": "5a46f3d4-1662-441f-b30f-4c7d66260022",
        "colab": {
          "base_uri": "https://localhost:8080/",
          "height": 301
        }
      },
      "source": [
        "fig, ax = plt.subplots()\n",
        "plt.scatter(clusters, scores)\n",
        "ax.set_xlabel('clusters')\n",
        "ax.set_ylabel('score')\n",
        "ax.set_title('Calinski Harabasz Score')\n",
        "plt.show()"
      ],
      "execution_count": 0,
      "outputs": [
        {
          "output_type": "display_data",
          "data": {
            "image/png": "[encoded data removed]",
            "text/plain": [
              "<Figure size 432x288 with 1 Axes>"
            ]
          },
          "metadata": {
            "tags": []
          }
        }
      ]
    },
    {
      "cell_type": "code",
      "metadata": {
        "id": "Gr-TpGwOWB5i",
        "colab_type": "code",
        "outputId": "992a35bf-c195-426d-fa99-6e6d5dd4e08f",
        "colab": {
          "base_uri": "https://localhost:8080/",
          "height": 318
        }
      },
      "source": [
        "meltPt_prop2 = pd.read_csv('/content/drive/My Drive/Data_LDA/cleaned_MeltingPt_vecs.csv')\n",
        "meltPt_prop2.set_index('smiles', inplace=True)\n",
        "meltPt_prop2.drop(columns=[\"Unnamed: 0\", \"Unnamed: 0.1\"], inplace=True)\n",
        "meltPt_prop2.head()"
      ],
      "execution_count": 0,
      "outputs": [
        {
          "output_type": "execute_result",
          "data": {
            "text/html": [
              "<div>\n",
              "<style scoped>\n",
              "    .dataframe tbody tr th:only-of-type {\n",
              "        vertical-align: middle;\n",
              "    }\n",
              "\n",
              "    .dataframe tbody tr th {\n",
              "        vertical-align: top;\n",
              "    }\n",
              "\n",
              "    .dataframe thead th {\n",
              "        text-align: right;\n",
              "    }\n",
              "</style>\n",
              "<table border=\"1\" class=\"dataframe\">\n",
              "  <thead>\n",
              "    <tr style=\"text-align: right;\">\n",
              "      <th></th>\n",
              "      <th>vec_0</th>\n",
              "      <th>vec_1</th>\n",
              "      <th>vec_2</th>\n",
              "      <th>vec_3</th>\n",
              "      <th>vec_4</th>\n",
              "      <th>vec_5</th>\n",
              "      <th>vec_6</th>\n",
              "      <th>vec_7</th>\n",
              "      <th>vec_8</th>\n",
              "      <th>vec_9</th>\n",
              "      <th>vec_10</th>\n",
              "      <th>vec_11</th>\n",
              "      <th>vec_12</th>\n",
              "      <th>vec_13</th>\n",
              "      <th>vec_14</th>\n",
              "      <th>vec_15</th>\n",
              "      <th>vec_16</th>\n",
              "      <th>vec_17</th>\n",
              "      <th>vec_18</th>\n",
              "      <th>vec_19</th>\n",
              "      <th>vec_20</th>\n",
              "      <th>vec_21</th>\n",
              "      <th>vec_22</th>\n",
              "      <th>vec_23</th>\n",
              "      <th>vec_24</th>\n",
              "      <th>vec_25</th>\n",
              "      <th>vec_26</th>\n",
              "      <th>vec_27</th>\n",
              "      <th>vec_28</th>\n",
              "      <th>vec_29</th>\n",
              "      <th>vec_30</th>\n",
              "      <th>vec_31</th>\n",
              "      <th>vec_32</th>\n",
              "      <th>vec_33</th>\n",
              "      <th>vec_34</th>\n",
              "      <th>vec_35</th>\n",
              "      <th>vec_36</th>\n",
              "      <th>vec_37</th>\n",
              "      <th>vec_38</th>\n",
              "      <th>vec_39</th>\n",
              "      <th>...</th>\n",
              "      <th>vec_260</th>\n",
              "      <th>vec_261</th>\n",
              "      <th>vec_262</th>\n",
              "      <th>vec_263</th>\n",
              "      <th>vec_264</th>\n",
              "      <th>vec_265</th>\n",
              "      <th>vec_266</th>\n",
              "      <th>vec_267</th>\n",
              "      <th>vec_268</th>\n",
              "      <th>vec_269</th>\n",
              "      <th>vec_270</th>\n",
              "      <th>vec_271</th>\n",
              "      <th>vec_272</th>\n",
              "      <th>vec_273</th>\n",
              "      <th>vec_274</th>\n",
              "      <th>vec_275</th>\n",
              "      <th>vec_276</th>\n",
              "      <th>vec_277</th>\n",
              "      <th>vec_278</th>\n",
              "      <th>vec_279</th>\n",
              "      <th>vec_280</th>\n",
              "      <th>vec_281</th>\n",
              "      <th>vec_282</th>\n",
              "      <th>vec_283</th>\n",
              "      <th>vec_284</th>\n",
              "      <th>vec_285</th>\n",
              "      <th>vec_286</th>\n",
              "      <th>vec_287</th>\n",
              "      <th>vec_288</th>\n",
              "      <th>vec_289</th>\n",
              "      <th>vec_290</th>\n",
              "      <th>vec_291</th>\n",
              "      <th>vec_292</th>\n",
              "      <th>vec_293</th>\n",
              "      <th>vec_294</th>\n",
              "      <th>vec_295</th>\n",
              "      <th>vec_296</th>\n",
              "      <th>vec_297</th>\n",
              "      <th>vec_298</th>\n",
              "      <th>vec_299</th>\n",
              "    </tr>\n",
              "    <tr>\n",
              "      <th>smiles</th>\n",
              "      <th></th>\n",
              "      <th></th>\n",
              "      <th></th>\n",
              "      <th></th>\n",
              "      <th></th>\n",
              "      <th></th>\n",
              "      <th></th>\n",
              "      <th></th>\n",
              "      <th></th>\n",
              "      <th></th>\n",
              "      <th></th>\n",
              "      <th></th>\n",
              "      <th></th>\n",
              "      <th></th>\n",
              "      <th></th>\n",
              "      <th></th>\n",
              "      <th></th>\n",
              "      <th></th>\n",
              "      <th></th>\n",
              "      <th></th>\n",
              "      <th></th>\n",
              "      <th></th>\n",
              "      <th></th>\n",
              "      <th></th>\n",
              "      <th></th>\n",
              "      <th></th>\n",
              "      <th></th>\n",
              "      <th></th>\n",
              "      <th></th>\n",
              "      <th></th>\n",
              "      <th></th>\n",
              "      <th></th>\n",
              "      <th></th>\n",
              "      <th></th>\n",
              "      <th></th>\n",
              "      <th></th>\n",
              "      <th></th>\n",
              "      <th></th>\n",
              "      <th></th>\n",
              "      <th></th>\n",
              "      <th></th>\n",
              "      <th></th>\n",
              "      <th></th>\n",
              "      <th></th>\n",
              "      <th></th>\n",
              "      <th></th>\n",
              "      <th></th>\n",
              "      <th></th>\n",
              "      <th></th>\n",
              "      <th></th>\n",
              "      <th></th>\n",
              "      <th></th>\n",
              "      <th></th>\n",
              "      <th></th>\n",
              "      <th></th>\n",
              "      <th></th>\n",
              "      <th></th>\n",
              "      <th></th>\n",
              "      <th></th>\n",
              "      <th></th>\n",
              "      <th></th>\n",
              "      <th></th>\n",
              "      <th></th>\n",
              "      <th></th>\n",
              "      <th></th>\n",
              "      <th></th>\n",
              "      <th></th>\n",
              "      <th></th>\n",
              "      <th></th>\n",
              "      <th></th>\n",
              "      <th></th>\n",
              "      <th></th>\n",
              "      <th></th>\n",
              "      <th></th>\n",
              "      <th></th>\n",
              "      <th></th>\n",
              "      <th></th>\n",
              "      <th></th>\n",
              "      <th></th>\n",
              "      <th></th>\n",
              "      <th></th>\n",
              "    </tr>\n",
              "  </thead>\n",
              "  <tbody>\n",
              "    <tr>\n",
              "      <th>B(C)(C)Br</th>\n",
              "      <td>-0.643549</td>\n",
              "      <td>1.403576</td>\n",
              "      <td>-0.136568</td>\n",
              "      <td>0.016938</td>\n",
              "      <td>0.548279</td>\n",
              "      <td>0.525434</td>\n",
              "      <td>-2.511350</td>\n",
              "      <td>0.566678</td>\n",
              "      <td>0.772374</td>\n",
              "      <td>0.610506</td>\n",
              "      <td>-0.434901</td>\n",
              "      <td>-1.102085</td>\n",
              "      <td>0.305184</td>\n",
              "      <td>-0.157024</td>\n",
              "      <td>-0.515253</td>\n",
              "      <td>-0.805841</td>\n",
              "      <td>1.205780</td>\n",
              "      <td>-0.281174</td>\n",
              "      <td>0.402330</td>\n",
              "      <td>1.554647</td>\n",
              "      <td>0.681653</td>\n",
              "      <td>0.588921</td>\n",
              "      <td>1.714938</td>\n",
              "      <td>1.061544</td>\n",
              "      <td>-0.884617</td>\n",
              "      <td>-1.511936</td>\n",
              "      <td>-0.495137</td>\n",
              "      <td>-0.190816</td>\n",
              "      <td>0.320016</td>\n",
              "      <td>-0.174376</td>\n",
              "      <td>1.230625</td>\n",
              "      <td>-0.641985</td>\n",
              "      <td>-0.416930</td>\n",
              "      <td>-0.947630</td>\n",
              "      <td>-0.003417</td>\n",
              "      <td>0.739325</td>\n",
              "      <td>0.380350</td>\n",
              "      <td>-0.663858</td>\n",
              "      <td>1.507820</td>\n",
              "      <td>0.165970</td>\n",
              "      <td>...</td>\n",
              "      <td>-1.114290</td>\n",
              "      <td>0.316985</td>\n",
              "      <td>0.572651</td>\n",
              "      <td>1.851282</td>\n",
              "      <td>0.550302</td>\n",
              "      <td>-1.040443</td>\n",
              "      <td>-0.365290</td>\n",
              "      <td>0.594854</td>\n",
              "      <td>0.401293</td>\n",
              "      <td>-0.948985</td>\n",
              "      <td>-0.615840</td>\n",
              "      <td>1.554033</td>\n",
              "      <td>-1.281979</td>\n",
              "      <td>0.372087</td>\n",
              "      <td>-0.336097</td>\n",
              "      <td>-1.996323</td>\n",
              "      <td>-0.358260</td>\n",
              "      <td>0.314572</td>\n",
              "      <td>0.654824</td>\n",
              "      <td>0.702450</td>\n",
              "      <td>-1.044243</td>\n",
              "      <td>-1.377691</td>\n",
              "      <td>-0.263034</td>\n",
              "      <td>-0.868790</td>\n",
              "      <td>0.461678</td>\n",
              "      <td>1.282874</td>\n",
              "      <td>-0.624078</td>\n",
              "      <td>-0.458547</td>\n",
              "      <td>-0.483029</td>\n",
              "      <td>0.635145</td>\n",
              "      <td>-0.812718</td>\n",
              "      <td>-0.264168</td>\n",
              "      <td>-0.638758</td>\n",
              "      <td>0.585099</td>\n",
              "      <td>-0.815716</td>\n",
              "      <td>-0.306870</td>\n",
              "      <td>-0.987928</td>\n",
              "      <td>-1.133075</td>\n",
              "      <td>-1.522481</td>\n",
              "      <td>-0.013224</td>\n",
              "    </tr>\n",
              "    <tr>\n",
              "      <th>B(C)(O)O</th>\n",
              "      <td>-0.577135</td>\n",
              "      <td>2.453745</td>\n",
              "      <td>1.159278</td>\n",
              "      <td>-1.374165</td>\n",
              "      <td>1.889976</td>\n",
              "      <td>1.441860</td>\n",
              "      <td>-4.510305</td>\n",
              "      <td>1.398043</td>\n",
              "      <td>1.530120</td>\n",
              "      <td>2.144882</td>\n",
              "      <td>-1.970033</td>\n",
              "      <td>-1.096980</td>\n",
              "      <td>0.835341</td>\n",
              "      <td>-0.959592</td>\n",
              "      <td>-2.272716</td>\n",
              "      <td>-1.973937</td>\n",
              "      <td>1.464243</td>\n",
              "      <td>-0.546352</td>\n",
              "      <td>-0.477666</td>\n",
              "      <td>1.650529</td>\n",
              "      <td>1.209631</td>\n",
              "      <td>-0.415389</td>\n",
              "      <td>2.558036</td>\n",
              "      <td>-0.681152</td>\n",
              "      <td>0.487769</td>\n",
              "      <td>-0.637497</td>\n",
              "      <td>-1.280608</td>\n",
              "      <td>2.295167</td>\n",
              "      <td>0.448645</td>\n",
              "      <td>0.339139</td>\n",
              "      <td>1.347745</td>\n",
              "      <td>-0.937108</td>\n",
              "      <td>-0.340035</td>\n",
              "      <td>0.217093</td>\n",
              "      <td>0.169103</td>\n",
              "      <td>1.748776</td>\n",
              "      <td>0.614023</td>\n",
              "      <td>-0.059746</td>\n",
              "      <td>1.361495</td>\n",
              "      <td>-0.719643</td>\n",
              "      <td>...</td>\n",
              "      <td>-1.561305</td>\n",
              "      <td>-0.099734</td>\n",
              "      <td>1.123164</td>\n",
              "      <td>1.630620</td>\n",
              "      <td>-0.367356</td>\n",
              "      <td>-0.658567</td>\n",
              "      <td>-0.468536</td>\n",
              "      <td>1.357987</td>\n",
              "      <td>0.116113</td>\n",
              "      <td>-2.078733</td>\n",
              "      <td>-2.558889</td>\n",
              "      <td>1.436359</td>\n",
              "      <td>-1.962438</td>\n",
              "      <td>0.473747</td>\n",
              "      <td>-1.053839</td>\n",
              "      <td>-2.947655</td>\n",
              "      <td>-1.010017</td>\n",
              "      <td>0.602191</td>\n",
              "      <td>1.494617</td>\n",
              "      <td>1.291709</td>\n",
              "      <td>0.663479</td>\n",
              "      <td>-0.621137</td>\n",
              "      <td>-1.492216</td>\n",
              "      <td>-0.794364</td>\n",
              "      <td>-0.649684</td>\n",
              "      <td>2.710180</td>\n",
              "      <td>-0.603537</td>\n",
              "      <td>-0.942447</td>\n",
              "      <td>0.842696</td>\n",
              "      <td>1.484331</td>\n",
              "      <td>-0.647403</td>\n",
              "      <td>-1.789785</td>\n",
              "      <td>0.183944</td>\n",
              "      <td>1.218015</td>\n",
              "      <td>-0.770867</td>\n",
              "      <td>-0.743426</td>\n",
              "      <td>-0.890780</td>\n",
              "      <td>-0.632267</td>\n",
              "      <td>-1.459616</td>\n",
              "      <td>1.273663</td>\n",
              "    </tr>\n",
              "    <tr>\n",
              "      <th>B(C1CC1)(O)O</th>\n",
              "      <td>0.194751</td>\n",
              "      <td>2.065573</td>\n",
              "      <td>1.198497</td>\n",
              "      <td>-1.016377</td>\n",
              "      <td>1.347588</td>\n",
              "      <td>1.174706</td>\n",
              "      <td>-5.588579</td>\n",
              "      <td>1.749553</td>\n",
              "      <td>1.089366</td>\n",
              "      <td>2.538345</td>\n",
              "      <td>-0.838773</td>\n",
              "      <td>-1.725143</td>\n",
              "      <td>0.069359</td>\n",
              "      <td>-0.203648</td>\n",
              "      <td>-2.798777</td>\n",
              "      <td>-2.920225</td>\n",
              "      <td>0.695258</td>\n",
              "      <td>-0.970542</td>\n",
              "      <td>-1.600018</td>\n",
              "      <td>1.867847</td>\n",
              "      <td>1.049489</td>\n",
              "      <td>0.380569</td>\n",
              "      <td>3.009509</td>\n",
              "      <td>0.592392</td>\n",
              "      <td>0.372538</td>\n",
              "      <td>-1.171943</td>\n",
              "      <td>-2.429568</td>\n",
              "      <td>1.946834</td>\n",
              "      <td>-0.044474</td>\n",
              "      <td>-0.250060</td>\n",
              "      <td>1.347984</td>\n",
              "      <td>-1.941655</td>\n",
              "      <td>-1.219523</td>\n",
              "      <td>0.419320</td>\n",
              "      <td>0.741669</td>\n",
              "      <td>2.286485</td>\n",
              "      <td>0.311404</td>\n",
              "      <td>-0.179804</td>\n",
              "      <td>2.920954</td>\n",
              "      <td>-0.025604</td>\n",
              "      <td>...</td>\n",
              "      <td>-0.948323</td>\n",
              "      <td>0.155126</td>\n",
              "      <td>1.686361</td>\n",
              "      <td>2.479353</td>\n",
              "      <td>0.291021</td>\n",
              "      <td>-1.536124</td>\n",
              "      <td>-0.772614</td>\n",
              "      <td>2.512200</td>\n",
              "      <td>0.333495</td>\n",
              "      <td>-3.046927</td>\n",
              "      <td>-2.630594</td>\n",
              "      <td>0.947578</td>\n",
              "      <td>-2.697947</td>\n",
              "      <td>-0.630542</td>\n",
              "      <td>-1.112475</td>\n",
              "      <td>-3.607898</td>\n",
              "      <td>-1.236069</td>\n",
              "      <td>0.808710</td>\n",
              "      <td>1.000181</td>\n",
              "      <td>1.897593</td>\n",
              "      <td>0.811157</td>\n",
              "      <td>-1.289436</td>\n",
              "      <td>-2.387887</td>\n",
              "      <td>-1.697917</td>\n",
              "      <td>-0.335489</td>\n",
              "      <td>4.176419</td>\n",
              "      <td>-1.157866</td>\n",
              "      <td>-1.796167</td>\n",
              "      <td>0.602731</td>\n",
              "      <td>1.509443</td>\n",
              "      <td>-0.478695</td>\n",
              "      <td>0.242686</td>\n",
              "      <td>-0.054460</td>\n",
              "      <td>0.991172</td>\n",
              "      <td>-2.097246</td>\n",
              "      <td>-1.867354</td>\n",
              "      <td>-2.570229</td>\n",
              "      <td>-0.573303</td>\n",
              "      <td>-2.496968</td>\n",
              "      <td>1.794700</td>\n",
              "    </tr>\n",
              "    <tr>\n",
              "      <th>B(C=CCC(C)C)(O)O</th>\n",
              "      <td>-1.525205</td>\n",
              "      <td>1.805014</td>\n",
              "      <td>-0.518784</td>\n",
              "      <td>-2.160116</td>\n",
              "      <td>4.236376</td>\n",
              "      <td>1.714284</td>\n",
              "      <td>-7.393000</td>\n",
              "      <td>-0.107512</td>\n",
              "      <td>3.893012</td>\n",
              "      <td>0.848587</td>\n",
              "      <td>-1.069784</td>\n",
              "      <td>-0.914428</td>\n",
              "      <td>1.697722</td>\n",
              "      <td>-1.387471</td>\n",
              "      <td>-4.056946</td>\n",
              "      <td>-4.137435</td>\n",
              "      <td>3.055914</td>\n",
              "      <td>-2.984649</td>\n",
              "      <td>-1.556069</td>\n",
              "      <td>3.886853</td>\n",
              "      <td>2.235352</td>\n",
              "      <td>1.807477</td>\n",
              "      <td>6.384276</td>\n",
              "      <td>0.642534</td>\n",
              "      <td>-0.506808</td>\n",
              "      <td>0.669432</td>\n",
              "      <td>-3.896414</td>\n",
              "      <td>-0.182701</td>\n",
              "      <td>1.285935</td>\n",
              "      <td>-0.461105</td>\n",
              "      <td>2.767166</td>\n",
              "      <td>-1.871888</td>\n",
              "      <td>-2.663631</td>\n",
              "      <td>-0.873656</td>\n",
              "      <td>0.671837</td>\n",
              "      <td>1.241951</td>\n",
              "      <td>-0.456515</td>\n",
              "      <td>0.879268</td>\n",
              "      <td>3.098188</td>\n",
              "      <td>0.127496</td>\n",
              "      <td>...</td>\n",
              "      <td>-1.900598</td>\n",
              "      <td>1.552080</td>\n",
              "      <td>-0.757657</td>\n",
              "      <td>2.590250</td>\n",
              "      <td>-0.095578</td>\n",
              "      <td>-2.113073</td>\n",
              "      <td>-1.655722</td>\n",
              "      <td>1.445834</td>\n",
              "      <td>1.772226</td>\n",
              "      <td>-2.175039</td>\n",
              "      <td>-3.904420</td>\n",
              "      <td>2.811106</td>\n",
              "      <td>-4.237155</td>\n",
              "      <td>0.678272</td>\n",
              "      <td>0.140434</td>\n",
              "      <td>-5.077536</td>\n",
              "      <td>-1.855269</td>\n",
              "      <td>1.141025</td>\n",
              "      <td>1.306532</td>\n",
              "      <td>3.064927</td>\n",
              "      <td>0.001099</td>\n",
              "      <td>-1.516921</td>\n",
              "      <td>-3.465250</td>\n",
              "      <td>-1.304029</td>\n",
              "      <td>-0.164945</td>\n",
              "      <td>2.604286</td>\n",
              "      <td>-1.345424</td>\n",
              "      <td>-0.248653</td>\n",
              "      <td>0.526468</td>\n",
              "      <td>0.866332</td>\n",
              "      <td>-2.109497</td>\n",
              "      <td>-1.607454</td>\n",
              "      <td>2.314450</td>\n",
              "      <td>1.321290</td>\n",
              "      <td>-3.559767</td>\n",
              "      <td>-2.254014</td>\n",
              "      <td>-1.847931</td>\n",
              "      <td>-1.552048</td>\n",
              "      <td>-3.775062</td>\n",
              "      <td>0.459407</td>\n",
              "    </tr>\n",
              "    <tr>\n",
              "      <th>B(C=CCCC)(O)O</th>\n",
              "      <td>-1.210874</td>\n",
              "      <td>1.947975</td>\n",
              "      <td>0.323048</td>\n",
              "      <td>-1.971842</td>\n",
              "      <td>3.623491</td>\n",
              "      <td>2.481533</td>\n",
              "      <td>-7.943348</td>\n",
              "      <td>0.476074</td>\n",
              "      <td>2.350111</td>\n",
              "      <td>2.307431</td>\n",
              "      <td>-1.565070</td>\n",
              "      <td>-2.139922</td>\n",
              "      <td>0.894437</td>\n",
              "      <td>0.138390</td>\n",
              "      <td>-4.601700</td>\n",
              "      <td>-2.950188</td>\n",
              "      <td>2.161628</td>\n",
              "      <td>-2.529657</td>\n",
              "      <td>-1.432521</td>\n",
              "      <td>3.464771</td>\n",
              "      <td>2.229934</td>\n",
              "      <td>-0.087391</td>\n",
              "      <td>5.949184</td>\n",
              "      <td>1.515847</td>\n",
              "      <td>-1.014306</td>\n",
              "      <td>-0.553549</td>\n",
              "      <td>-3.321720</td>\n",
              "      <td>0.344388</td>\n",
              "      <td>1.334636</td>\n",
              "      <td>-0.260999</td>\n",
              "      <td>1.736711</td>\n",
              "      <td>-1.795641</td>\n",
              "      <td>-1.162508</td>\n",
              "      <td>-1.205780</td>\n",
              "      <td>-0.209105</td>\n",
              "      <td>1.084725</td>\n",
              "      <td>-0.121981</td>\n",
              "      <td>1.371641</td>\n",
              "      <td>3.095062</td>\n",
              "      <td>0.544610</td>\n",
              "      <td>...</td>\n",
              "      <td>-3.578672</td>\n",
              "      <td>1.773964</td>\n",
              "      <td>0.953886</td>\n",
              "      <td>3.367849</td>\n",
              "      <td>-0.112746</td>\n",
              "      <td>-2.283754</td>\n",
              "      <td>-2.183112</td>\n",
              "      <td>1.788381</td>\n",
              "      <td>2.317649</td>\n",
              "      <td>-1.488750</td>\n",
              "      <td>-4.371192</td>\n",
              "      <td>1.057279</td>\n",
              "      <td>-3.101618</td>\n",
              "      <td>0.812681</td>\n",
              "      <td>-0.381383</td>\n",
              "      <td>-4.147240</td>\n",
              "      <td>-1.239409</td>\n",
              "      <td>0.917256</td>\n",
              "      <td>0.994866</td>\n",
              "      <td>1.930897</td>\n",
              "      <td>1.267299</td>\n",
              "      <td>-0.110818</td>\n",
              "      <td>-3.687858</td>\n",
              "      <td>-0.751624</td>\n",
              "      <td>-0.391089</td>\n",
              "      <td>2.103590</td>\n",
              "      <td>-0.782262</td>\n",
              "      <td>0.631652</td>\n",
              "      <td>1.785219</td>\n",
              "      <td>0.693745</td>\n",
              "      <td>-2.707877</td>\n",
              "      <td>-1.445508</td>\n",
              "      <td>2.434726</td>\n",
              "      <td>1.534208</td>\n",
              "      <td>-2.441328</td>\n",
              "      <td>-1.966923</td>\n",
              "      <td>-2.083129</td>\n",
              "      <td>-1.144192</td>\n",
              "      <td>-2.752895</td>\n",
              "      <td>-0.634076</td>\n",
              "    </tr>\n",
              "  </tbody>\n",
              "</table>\n",
              "<p>5 rows × 300 columns</p>\n",
              "</div>"
            ],
            "text/plain": [
              "                     vec_0     vec_1     vec_2  ...   vec_297   vec_298   vec_299\n",
              "smiles                                          ...                              \n",
              "B(C)(C)Br        -0.643549  1.403576 -0.136568  ... -1.133075 -1.522481 -0.013224\n",
              "B(C)(O)O         -0.577135  2.453745  1.159278  ... -0.632267 -1.459616  1.273663\n",
              "B(C1CC1)(O)O      0.194751  2.065573  1.198497  ... -0.573303 -2.496968  1.794700\n",
              "B(C=CCC(C)C)(O)O -1.525205  1.805014 -0.518784  ... -1.552048 -3.775062  0.459407\n",
              "B(C=CCCC)(O)O    -1.210874  1.947975  0.323048  ... -1.144192 -2.752895 -0.634076\n",
              "\n",
              "[5 rows x 300 columns]"
            ]
          },
          "metadata": {
            "tags": []
          },
          "execution_count": 4
        }
      ]
    },
    {
      "cell_type": "code",
      "metadata": {
        "id": "mLO5Dl_lmtWY",
        "colab_type": "code",
        "outputId": "0456ecd7-7bdf-4d6d-c34a-a861431320c0",
        "colab": {
          "base_uri": "https://localhost:8080/",
          "height": 352
        }
      },
      "source": [
        "prediction_20 = GaussianMixture(20, covariance_type='full', random_state=0).fit(meltPt_prop2).predict(meltPt_prop2)\n",
        "print(prediction_20)\n",
        "\n",
        "print(min(prediction_20))\n",
        "print(max(prediction_20))\n",
        "\n",
        "percentages = [0] * 20\n",
        "for i in range(len(prediction_20)):\n",
        "    percentages[prediction_20[i]] += 1\n",
        "for i in range(len(percentages)):\n",
        "    percentages[i] = percentages[i] / len(prediction_20)\n",
        "\n",
        "fig, ax = plt.subplots()\n",
        "x = [i for i in range(20)]\n",
        "plt.bar(x, percentages)\n",
        "ax.set_xlabel('clusters')\n",
        "ax.set_ylabel('% of molecules in a cluster')\n",
        "ax.set_title('20 Clusters')\n",
        "plt.show()"
      ],
      "execution_count": 0,
      "outputs": [
        {
          "output_type": "stream",
          "text": [
            "[12 12 12 ...  7  7  9]\n",
            "0\n",
            "19\n"
          ],
          "name": "stdout"
        },
        {
          "output_type": "display_data",
          "data": {
            "image/png": "[encoded data removed]",
            "text/plain": [
              "<Figure size 432x288 with 1 Axes>"
            ]
          },
          "metadata": {
            "tags": []
          }
        }
      ]
    },
    {
      "cell_type": "code",
      "metadata": {
        "id": "-dgnX-7ynCVp",
        "colab_type": "code",
        "outputId": "15cbe92f-3dec-4945-d5d2-d6b99a9d84ef",
        "colab": {
          "base_uri": "https://localhost:8080/",
          "height": 352
        }
      },
      "source": [
        "prediction_40 = GaussianMixture(40, covariance_type='full', random_state=0).fit(meltPt_prop2).predict(meltPt_prop2)\n",
        "print(prediction_40)\n",
        "\n",
        "print(min(prediction_40))\n",
        "print(max(prediction_40))\n",
        "\n",
        "percentages = [0] * 40\n",
        "for i in range(len(prediction_40)):\n",
        "    percentages[prediction_40[i]] += 1\n",
        "for i in range(len(percentages)):\n",
        "    percentages[i] = percentages[i] / len(prediction_40)\n",
        "\n",
        "fig, ax = plt.subplots()\n",
        "x = [i for i in range(40)]\n",
        "plt.bar(x, percentages)\n",
        "ax.set_xlabel('clusters')\n",
        "ax.set_ylabel('% of molecules in a cluster')\n",
        "ax.set_title('40 Clusters')\n",
        "plt.show()"
      ],
      "execution_count": 0,
      "outputs": [
        {
          "output_type": "stream",
          "text": [
            "[26 26 26 ... 39 39  7]\n",
            "0\n",
            "39\n"
          ],
          "name": "stdout"
        },
        {
          "output_type": "display_data",
          "data": {
            "image/png": "[encoded data removed]",
            "text/plain": [
              "<Figure size 432x288 with 1 Axes>"
            ]
          },
          "metadata": {
            "tags": []
          }
        }
      ]
    },
    {
      "cell_type": "code",
      "metadata": {
        "id": "w1bC4E19EoT8",
        "colab_type": "code",
        "colab": {}
      },
      "source": [
        "with open(\"prediction_40_gmm.txt\", \"w\") as output:\n",
        "    for row in prediction_40:\n",
        "        output.write(str(row) + '\\n')"
      ],
      "execution_count": 0,
      "outputs": []
    },
    {
      "cell_type": "code",
      "metadata": {
        "id": "0N7RKOejAbuC",
        "colab_type": "code",
        "outputId": "0c89cf98-114f-446f-a917-d1c6fb7d8acc",
        "colab": {
          "base_uri": "https://localhost:8080/",
          "height": 352
        }
      },
      "source": [
        "from sklearn.cluster import AgglomerativeClustering\n",
        "prediction_40 = AgglomerativeClustering(n_clusters=40).fit_predict(meltPt_prop2)\n",
        "print(prediction_40)\n",
        "\n",
        "print(min(prediction_40))\n",
        "print(max(prediction_40))\n",
        "\n",
        "percentages = [0] * 40\n",
        "for i in range(len(prediction_40)):\n",
        "    percentages[prediction_40[i]] += 1\n",
        "for i in range(len(percentages)):\n",
        "    percentages[i] = percentages[i] / len(prediction_40)\n",
        "\n",
        "fig, ax = plt.subplots()\n",
        "x = [i for i in range(40)]\n",
        "plt.bar(x, percentages)\n",
        "ax.set_xlabel('clusters')\n",
        "ax.set_ylabel('% of molecules in a cluster')\n",
        "ax.set_title('40 Clusters')\n",
        "plt.show()"
      ],
      "execution_count": 0,
      "outputs": [
        {
          "output_type": "stream",
          "text": [
            "[33 33 33 ... 13 13 34]\n",
            "0\n",
            "39\n"
          ],
          "name": "stdout"
        },
        {
          "output_type": "display_data",
          "data": {
            "image/png": "[encoded data removed]",
            "text/plain": [
              "<Figure size 432x288 with 1 Axes>"
            ]
          },
          "metadata": {
            "tags": []
          }
        }
      ]
    },
    {
      "cell_type": "code",
      "metadata": {
        "id": "hcxhrlxlEV6a",
        "colab_type": "code",
        "colab": {}
      },
      "source": [
        "with open(\"prediction_40_hier.txt\", \"w\") as output:\n",
        "    for row in prediction_40:\n",
        "        output.write(str(row) + '\\n')"
      ],
      "execution_count": 0,
      "outputs": []
    },
    {
      "cell_type": "code",
      "metadata": {
        "id": "SOpQIJFpoAfH",
        "colab_type": "code",
        "outputId": "32a2c1bf-e86c-49f3-d765-8b3903116a99",
        "colab": {
          "base_uri": "https://localhost:8080/",
          "height": 352
        }
      },
      "source": [
        "prediction_60 = GaussianMixture(60, covariance_type='full', random_state=0).fit(meltPt_prop2).predict(meltPt_prop2)\n",
        "print(prediction_60)\n",
        "\n",
        "print(min(prediction_60))\n",
        "print(max(prediction_60))\n",
        "\n",
        "percentages = [0] * 60\n",
        "for i in range(len(prediction_60)):\n",
        "    percentages[prediction_60[i]] += 1\n",
        "for i in range(len(percentages)):\n",
        "    percentages[i] = percentages[i] / len(prediction_60)\n",
        "\n",
        "fig, ax = plt.subplots()\n",
        "x = [i for i in range(60)]\n",
        "plt.bar(x, percentages)\n",
        "ax.set_xlabel('clusters')\n",
        "ax.set_ylabel('% of molecules in a cluster')\n",
        "ax.set_title('60 Clusters')\n",
        "plt.show()"
      ],
      "execution_count": 0,
      "outputs": [
        {
          "output_type": "stream",
          "text": [
            "[ 6  6  6 ... 33  5  5]\n",
            "0\n",
            "59\n"
          ],
          "name": "stdout"
        },
        {
          "output_type": "display_data",
          "data": {
            "image/png": "[encoded data removed]",
            "text/plain": [
              "<Figure size 432x288 with 1 Axes>"
            ]
          },
          "metadata": {
            "tags": []
          }
        }
      ]
    },
    {
      "cell_type": "code",
      "metadata": {
        "id": "nri6BYaZpHeV",
        "colab_type": "code",
        "outputId": "b23b5adb-1af2-4731-a3b6-9d09cf1082d2",
        "colab": {
          "base_uri": "https://localhost:8080/",
          "height": 68
        }
      },
      "source": [
        "scores = []\n",
        "for pred in [prediction_20, prediction_40, prediction_60]: \n",
        "    score = davies_bouldin_score(labels, pred)\n",
        "    print(score)\n",
        "    scores.append(score)"
      ],
      "execution_count": 0,
      "outputs": [
        {
          "output_type": "stream",
          "text": [
            "7.297202540925889\n",
            "6.632894662274876\n",
            "7.317934064396324\n"
          ],
          "name": "stdout"
        }
      ]
    },
    {
      "cell_type": "markdown",
      "metadata": {
        "id": "C3eCSSY4rFE8",
        "colab_type": "text"
      },
      "source": [
        "Lower Davies-Bouldin index relates to a model with better separation between the clusters.\n",
        "https://scikit-learn.org/stable/modules/clustering.html#calinski-harabasz-index"
      ]
    },
    {
      "cell_type": "code",
      "metadata": {
        "id": "9vA2mAKeqlXD",
        "colab_type": "code",
        "outputId": "4a7538f1-eabb-4fbf-d10b-b3f597f8b090",
        "colab": {
          "base_uri": "https://localhost:8080/",
          "height": 301
        }
      },
      "source": [
        "fig, ax = plt.subplots()\n",
        "plt.scatter([20,40,60], scores)\n",
        "ax.set_xlabel('clusters')\n",
        "ax.set_ylabel('score')\n",
        "ax.set_title('Davies Bouldin Score')\n",
        "plt.show()"
      ],
      "execution_count": 0,
      "outputs": [
        {
          "output_type": "display_data",
          "data": {
            "image/png": "[encoded data removed]",
            "text/plain": [
              "<Figure size 432x288 with 1 Axes>"
            ]
          },
          "metadata": {
            "tags": []
          }
        }
      ]
    },
    {
      "cell_type": "code",
      "metadata": {
        "id": "h8sx8A3lrZEt",
        "colab_type": "code",
        "colab": {}
      },
      "source": [
        ""
      ],
      "execution_count": 0,
      "outputs": []
    }
  ]
}